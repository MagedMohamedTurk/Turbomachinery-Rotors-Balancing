{
 "cells": [
  {
   "cell_type": "code",
   "execution_count": 65,
   "id": "c7266ecd",
   "metadata": {
    "jupyter": {
     "source_hidden": true
    },
    "tags": []
   },
   "outputs": [],
   "source": [
    "# Importing modules\n",
    "try:\n",
    "    import hsbalance as hs;\n",
    "except ImportError:\n",
    "    !pip install hsbalance\n",
    "    import hsbalance as hs;\n",
    "try:\n",
    "    import matplotlib\n",
    "except ImportError:\n",
    "    !pip install matplotlib\n",
    "    import matplotlib\n",
    "try:\n",
    "    import ipympl\n",
    "except ImportError:\n",
    "    !pip install ipympl\n",
    "    import ipympl"
   ]
  },
  {
   "cell_type": "code",
   "execution_count": 66,
   "id": "f622ade9",
   "metadata": {
    "jupyter": {
     "source_hidden": true
    },
    "tags": []
   },
   "outputs": [],
   "source": [
    "import numpy as np\n",
    "import matplotlib.pyplot as plt\n",
    "%matplotlib widget"
   ]
  },
  {
   "cell_type": "markdown",
   "id": "ce6e51fc",
   "metadata": {
    "tags": []
   },
   "source": [
    "\n",
    "# # Creating Model\n"
   ]
  },
  {
   "cell_type": "markdown",
   "id": "9aa04d4f",
   "metadata": {
    "tags": []
   },
   "source": [
    "1. Enter the initial vibration column vector `A`:\n",
    "- each row represents the vibration at certain measuring plane.\n",
    "- vibration is to be represented in the form ('amplitude' @ 'phase(degrees)')\n"
   ]
  },
  {
   "cell_type": "code",
   "execution_count": 67,
   "id": "84e04880-b802-43cd-a56a-991ea94d89df",
   "metadata": {
    "tags": []
   },
   "outputs": [],
   "source": [
    "A_math = [['42@68'], ['41@221'],['27@153'],['26@325']] \n",
    "\n",
    "B_math = [['53@54','30@75'],['37.5@220','57@230'],['33@144','22@160'],['28@315','35@324'] ]\n",
    "\n",
    "U_math =['80@90','108@293']"
   ]
  },
  {
   "cell_type": "markdown",
   "id": "90c543d6",
   "metadata": {
    "tags": []
   },
   "source": [
    "4. Transform matrices to cartesian (complex number) form:"
   ]
  },
  {
   "cell_type": "code",
   "execution_count": 68,
   "id": "ced90208",
   "metadata": {
    "jupyter": {
     "source_hidden": true
    },
    "tags": []
   },
   "outputs": [
    {
     "name": "stdout",
     "output_type": "stream",
     "text": [
      "A=\n",
      "[[ 15.73347692+38.94172189j]\n",
      " [-30.94309279-26.89842019j]\n",
      " [-24.05717615+12.25774349j]\n",
      " [ 21.29795315-14.91298735j]]\n",
      "\n",
      "B=\n",
      "[[ 31.15261837+42.8779007j    7.76457135+28.97777479j]\n",
      " [-28.72666662-24.10453536j -36.63889375-43.66453326j]\n",
      " [-26.69756081+19.39691333j -20.67323766 +7.52444315j]\n",
      " [ 19.79898987-19.79898987j  28.3155948 -20.57248383j]]\n",
      "\n",
      "U = [4.89858720e-15+80.j         4.21989619e+01-99.41452417j]\n"
     ]
    }
   ],
   "source": [
    "A = hs.convert_matrix_to_cart(A_math)\n",
    "B = hs.convert_matrix_to_cart(B_math)\n",
    "U = hs.convert_matrix_to_cart(U_math)\n",
    "print('A=\\n{}\\n\\nB=\\n{}\\n\\nU = {}'.format(A, B, U))"
   ]
  },
  {
   "cell_type": "markdown",
   "id": "0c2e6a2c",
   "metadata": {},
   "source": [
    "Transform back to mathematical expression form"
   ]
  },
  {
   "cell_type": "code",
   "execution_count": 69,
   "id": "738fa68d-f4e1-4358-8ef0-19308db812a3",
   "metadata": {
    "jupyter": {
     "source_hidden": true
    },
    "tags": []
   },
   "outputs": [
    {
     "data": {
      "text/plain": [
       "array([['0.199 @ 284.3', '0.118 @ 298.3'],\n",
       "       ['0.045 @ 321.6', '0.164 @ 318.2'],\n",
       "       ['0.095 @ 20.3', '0.054 @ 12.6'],\n",
       "       ['0.064 @ 162.9', '0.083 @ 28.1']], dtype='<U13')"
      ]
     },
     "execution_count": 69,
     "metadata": {},
     "output_type": "execute_result"
    }
   ],
   "source": [
    "alpha = hs.Alpha()  # create an instance of alpha class\n",
    "alpha.add(A=A, B=B, U=U)  # calculate alpha from parameters\n",
    "\n",
    "hs.convert_matrix_to_math(alpha.value)\n",
    "\n",
    "#print(alpha)"
   ]
  },
  {
   "cell_type": "code",
   "execution_count": 70,
   "id": "fd21de6d-973a-4804-9f11-908a5c8374d9",
   "metadata": {
    "jupyter": {
     "source_hidden": true
    },
    "tags": []
   },
   "outputs": [
    {
     "name": "stdout",
     "output_type": "stream",
     "text": [
      "\n",
      "++++++++++++++++++++++++++++++++++++++++++++++++++++++++++++\n",
      "MODEL\n",
      "++++++++++++++++++++++++++++++++++++++++++++++++++++++++++++\n",
      "\n",
      "++++++++++++++++++++++++++++++++++++++++++++++++++++++++++++\n",
      "MODEL TYPE\n",
      "==================================================\n",
      "LeastSquares\n",
      "==================================================\n",
      "End of MODEL TYPE\n",
      "++++++++++++++++++++++++++++++++++++++++++++++++++++++++++++\n",
      "\n",
      "                   \n",
      "++++++++++++++++++++++++++++++++++++++++++++++++++++++++++++\n",
      "MODEL NAME\n",
      "==================================================\n",
      "LeastSquares\n",
      "==================================================\n",
      "End of MODEL NAME\n",
      "++++++++++++++++++++++++++++++++++++++++++++++++++++++++++++\n",
      "\n",
      "                   \n",
      "++++++++++++++++++++++++++++++++++++++++++++++++++++++++++++\n",
      "INFLUENCE COEFFICIENT MATRIX\n",
      "==================================================\n",
      "\n",
      "++++++++++++++++++++++++++++++++++++++++\n",
      "Influence Coefficient Matrix\n",
      "++++++++++++++++++++++++++++++++++++++++\n",
      "\n",
      "++++++++++++++++++++++++++++++++++++++++\n",
      "Coefficient Values\n",
      "==============================\n",
      "                Plane 1        Plane 2\n",
      "Sensor 1  0.199 @ 284.3  0.118 @ 298.3\n",
      "Sensor 2  0.045 @ 321.6  0.164 @ 318.2\n",
      "Sensor 3   0.095 @ 20.3   0.054 @ 12.6\n",
      "Sensor 4  0.064 @ 162.9   0.083 @ 28.1\n",
      "==============================\n",
      "End of Coefficient Values\n",
      "++++++++++++++++++++++++++++++++++++++++\n",
      "\n",
      "                   \n",
      "++++++++++++++++++++++++++++++++++++++++\n",
      "Initial Vibration\n",
      "==============================\n",
      "             Vibration\n",
      "Sensor 1   42.0 @ 68.0\n",
      "Sensor 2  41.0 @ 221.0\n",
      "Sensor 3  27.0 @ 153.0\n",
      "Sensor 4  26.0 @ 325.0\n",
      "==============================\n",
      "End of Initial Vibration\n",
      "++++++++++++++++++++++++++++++++++++++++\n",
      "\n",
      "                   \n",
      "++++++++++++++++++++++++++++++++++++++++\n",
      "Trial Runs Vibration\n",
      "==============================\n",
      "               Plane 1       Plane 2\n",
      "Sensor 1   53.0 @ 54.0   30.0 @ 75.0\n",
      "Sensor 2  37.5 @ 220.0  57.0 @ 230.0\n",
      "Sensor 3  33.0 @ 144.0  22.0 @ 160.0\n",
      "Sensor 4  28.0 @ 315.0  35.0 @ 324.0\n",
      "==============================\n",
      "End of Trial Runs Vibration\n",
      "++++++++++++++++++++++++++++++++++++++++\n",
      "\n",
      "                   \n",
      "++++++++++++++++++++++++++++++++++++++++\n",
      "Trial Masses\n",
      "==============================\n",
      "                  Mass\n",
      "Plane 1    80.0 @ 90.0\n",
      "Plane 2  108.0 @ 293.0\n",
      "==============================\n",
      "End of Trial Masses\n",
      "++++++++++++++++++++++++++++++++++++++++\n",
      "\n",
      "                   \n",
      "==================================================\n",
      "End of INFLUENCE COEFFICIENT MATRIX\n",
      "++++++++++++++++++++++++++++++++++++++++++++++++++++++++++++\n",
      "\n",
      "                   \n",
      "++++++++++++++++++++++++++++++++++++++++++++++++++++++++++++\n",
      "INITIAL VIBRATION\n",
      "==================================================\n",
      "             Vibration\n",
      "Sensor 1   42.0 @ 68.0\n",
      "Sensor 2  41.0 @ 221.0\n",
      "Sensor 3  27.0 @ 153.0\n",
      "Sensor 4  26.0 @ 325.0\n",
      "==================================================\n",
      "End of INITIAL VIBRATION\n",
      "++++++++++++++++++++++++++++++++++++++++++++++++++++++++++++\n",
      "\n",
      "                   \n",
      "++++++++++++++++++++++++++++++++++++++++++++++++++++++++++++\n",
      "SOLUTION\n",
      "==================================================\n",
      "        Correction Masses\n",
      "Plane 1   318.952 @ 314.5\n",
      "Plane 2   226.764 @ 103.5\n",
      "==================================================\n",
      "End of SOLUTION\n",
      "++++++++++++++++++++++++++++++++++++++++++++++++++++++++++++\n",
      "\n",
      "                   \n",
      "++++++++++++++++++++++++++++++++++++++++++++++++++++++++++++\n",
      "RMSE\n",
      "==================================================\n",
      "11.5247\n",
      "==================================================\n",
      "End of RMSE\n",
      "++++++++++++++++++++++++++++++++++++++++++++++++++++++++++++\n",
      "\n",
      "                   \n",
      "++++++++++++++++++++++++++++++++++++++++++++++++++++++++++++\n",
      "Resiudal Vibration Expected\n",
      "==================================================\n",
      "         Expected Vibration\n",
      "Sensor 1       3.817 @ 41.5\n",
      "Sensor 2     14.454 @ 214.9\n",
      "Sensor 3     10.507 @ 100.8\n",
      "Sensor 4      17.321 @ 92.3\n",
      "==================================================\n",
      "End of Resiudal Vibration Expected\n",
      "++++++++++++++++++++++++++++++++++++++++++++++++++++++++++++\n",
      "\n",
      "                   \n"
     ]
    }
   ],
   "source": [
    "my_model = hs.LeastSquares(A, alpha ,name='LeastSquares')\n",
    "\n",
    "W = my_model.solve()\n",
    "\n",
    "hs.convert_matrix_to_math(W)\n",
    "\n",
    "my_model.rmse()\n",
    "\n",
    "print(my_model.info())"
   ]
  },
  {
   "cell_type": "markdown",
   "id": "4c81228e",
   "metadata": {},
   "source": [
    "## Solving with Least squares:"
   ]
  },
  {
   "cell_type": "code",
   "execution_count": 71,
   "id": "66771781-8dfa-41fb-a250-146cff0116c7",
   "metadata": {
    "jupyter": {
     "source_hidden": true
    },
    "tags": []
   },
   "outputs": [
    {
     "data": {
      "text/plain": [
       "array([['3.817 @ 41.5'],\n",
       "       ['14.454 @ 214.9'],\n",
       "       ['10.507 @ 100.8'],\n",
       "       ['17.321 @ 92.3']], dtype='<U14')"
      ]
     },
     "execution_count": 71,
     "metadata": {},
     "output_type": "execute_result"
    }
   ],
   "source": [
    "model_LeastSquares = hs.LeastSquares(A, alpha, name='Splitt-LS') # Instantiate least square model\n",
    "\n",
    "W_LeastSquares = model_LeastSquares.solve() #solve\n",
    "\n",
    "hs.convert_matrix_to_math(W_LeastSquares)\n",
    "\n",
    "residuals_LeastSquares = model_LeastSquares.expected_residual_vibration()\n",
    "hs.convert_matrix_to_math(residuals_LeastSquares) # Expected residule vibrations"
   ]
  },
  {
   "cell_type": "code",
   "execution_count": 72,
   "id": "132aa695",
   "metadata": {
    "jupyter": {
     "source_hidden": true
    },
    "tags": []
   },
   "outputs": [
    {
     "data": {
      "text/plain": [
       "11.5247"
      ]
     },
     "execution_count": 72,
     "metadata": {},
     "output_type": "execute_result"
    }
   ],
   "source": [
    "rmse_LeastSquares = model_LeastSquares.rmse()\n",
    "rmse_LeastSquares"
   ]
  },
  {
   "cell_type": "code",
   "execution_count": 73,
   "id": "226aaea9",
   "metadata": {
    "jupyter": {
     "source_hidden": true
    },
    "tags": []
   },
   "outputs": [],
   "source": [
    "#print(model_LeastSquares.info())"
   ]
  },
  {
   "cell_type": "markdown",
   "id": "a50be883-2c8f-491d-943d-3c60a02906a8",
   "metadata": {
    "tags": []
   },
   "source": [
    "## Splitting plane Least Squares"
   ]
  },
  {
   "cell_type": "code",
   "execution_count": 74,
   "id": "7b5120fe-dfff-4034-81bd-702484251c43",
   "metadata": {
    "jupyter": {
     "source_hidden": true
    },
    "tags": []
   },
   "outputs": [
    {
     "name": "stdout",
     "output_type": "stream",
     "text": [
      "[  0  45  90 135 180 225 270 315]\n"
     ]
    }
   ],
   "source": [
    "split_BZA = model_LeastSquares.create_split()\n",
    "\n",
    "angles = np.arange(0,360,45)\n",
    "\n",
    "split_BZA.split_setup(0, max_number_weights_per_hole=1, holes_available=[angles]\n",
    "                         ,weights_available=[80,129], max_weight_per_plane=209)\n",
    "\n",
    "print(angles)"
   ]
  },
  {
   "cell_type": "code",
   "execution_count": 75,
   "id": "141db2da-2494-4c52-8262-656dd14fa58a",
   "metadata": {
    "jupyter": {
     "source_hidden": true
    },
    "scrolled": true,
    "tags": []
   },
   "outputs": [
    {
     "name": "stdout",
     "output_type": "stream",
     "text": [
      "40.8 ms ± 4.08 ms per loop (mean ± std. dev. of 7 runs, 10 loops each)\n"
     ]
    }
   ],
   "source": [
    "%%timeit\n",
    "split_BZA.split_solve()"
   ]
  },
  {
   "cell_type": "code",
   "execution_count": 76,
   "id": "14b538a8-0c15-429d-9f1e-e814aa92c02e",
   "metadata": {
    "jupyter": {
     "source_hidden": true
    },
    "tags": []
   },
   "outputs": [
    {
     "name": "stdout",
     "output_type": "stream",
     "text": [
      "\n",
      "++++++++++++++++++++++++++++++++++++++++++++++++++++++++++++\n",
      "MODEL\n",
      "++++++++++++++++++++++++++++++++++++++++++++++++++++++++++++\n",
      "\n",
      "++++++++++++++++++++++++++++++++++++++++++++++++++++++++++++\n",
      "MODEL TYPE\n",
      "==================================================\n",
      "LeastSquares\n",
      "==================================================\n",
      "End of MODEL TYPE\n",
      "++++++++++++++++++++++++++++++++++++++++++++++++++++++++++++\n",
      "\n",
      "                   \n",
      "++++++++++++++++++++++++++++++++++++++++++++++++++++++++++++\n",
      "MODEL NAME\n",
      "==================================================\n",
      "Splitt-LS\n",
      "==================================================\n",
      "End of MODEL NAME\n",
      "++++++++++++++++++++++++++++++++++++++++++++++++++++++++++++\n",
      "\n",
      "                   \n",
      "++++++++++++++++++++++++++++++++++++++++++++++++++++++++++++\n",
      "INFLUENCE COEFFICIENT MATRIX\n",
      "==================================================\n",
      "\n",
      "++++++++++++++++++++++++++++++++++++++++\n",
      "Influence Coefficient Matrix\n",
      "++++++++++++++++++++++++++++++++++++++++\n",
      "\n",
      "++++++++++++++++++++++++++++++++++++++++\n",
      "Coefficient Values\n",
      "==============================\n",
      "                Plane 1        Plane 2\n",
      "Sensor 1  0.199 @ 284.3  0.118 @ 298.3\n",
      "Sensor 2  0.045 @ 321.6  0.164 @ 318.2\n",
      "Sensor 3   0.095 @ 20.3   0.054 @ 12.6\n",
      "Sensor 4  0.064 @ 162.9   0.083 @ 28.1\n",
      "==============================\n",
      "End of Coefficient Values\n",
      "++++++++++++++++++++++++++++++++++++++++\n",
      "\n",
      "                   \n",
      "++++++++++++++++++++++++++++++++++++++++\n",
      "Initial Vibration\n",
      "==============================\n",
      "             Vibration\n",
      "Sensor 1   42.0 @ 68.0\n",
      "Sensor 2  41.0 @ 221.0\n",
      "Sensor 3  27.0 @ 153.0\n",
      "Sensor 4  26.0 @ 325.0\n",
      "==============================\n",
      "End of Initial Vibration\n",
      "++++++++++++++++++++++++++++++++++++++++\n",
      "\n",
      "                   \n",
      "++++++++++++++++++++++++++++++++++++++++\n",
      "Trial Runs Vibration\n",
      "==============================\n",
      "               Plane 1       Plane 2\n",
      "Sensor 1   53.0 @ 54.0   30.0 @ 75.0\n",
      "Sensor 2  37.5 @ 220.0  57.0 @ 230.0\n",
      "Sensor 3  33.0 @ 144.0  22.0 @ 160.0\n",
      "Sensor 4  28.0 @ 315.0  35.0 @ 324.0\n",
      "==============================\n",
      "End of Trial Runs Vibration\n",
      "++++++++++++++++++++++++++++++++++++++++\n",
      "\n",
      "                   \n",
      "++++++++++++++++++++++++++++++++++++++++\n",
      "Trial Masses\n",
      "==============================\n",
      "                  Mass\n",
      "Plane 1    80.0 @ 90.0\n",
      "Plane 2  108.0 @ 293.0\n",
      "==============================\n",
      "End of Trial Masses\n",
      "++++++++++++++++++++++++++++++++++++++++\n",
      "\n",
      "                   \n",
      "==================================================\n",
      "End of INFLUENCE COEFFICIENT MATRIX\n",
      "++++++++++++++++++++++++++++++++++++++++++++++++++++++++++++\n",
      "\n",
      "                   \n",
      "++++++++++++++++++++++++++++++++++++++++++++++++++++++++++++\n",
      "INITIAL VIBRATION\n",
      "==================================================\n",
      "             Vibration\n",
      "Sensor 1   42.0 @ 68.0\n",
      "Sensor 2  41.0 @ 221.0\n",
      "Sensor 3  27.0 @ 153.0\n",
      "Sensor 4  26.0 @ 325.0\n",
      "==================================================\n",
      "End of INITIAL VIBRATION\n",
      "++++++++++++++++++++++++++++++++++++++++++++++++++++++++++++\n",
      "\n",
      "                   \n",
      "++++++++++++++++++++++++++++++++++++++++++++++++++++++++++++\n",
      "SOLUTION\n",
      "==================================================\n",
      "        Correction Masses\n",
      "Plane 1   193.999 @ 298.0\n",
      "Plane 2   226.764 @ 103.5\n",
      "==================================================\n",
      "End of SOLUTION\n",
      "++++++++++++++++++++++++++++++++++++++++++++++++++++++++++++\n",
      "\n",
      "                   \n",
      "++++++++++++++++++++++++++++++++++++++++++++++++++++++++++++\n",
      "RMSE\n",
      "==================================================\n",
      "19.7361\n",
      "==================================================\n",
      "End of RMSE\n",
      "++++++++++++++++++++++++++++++++++++++++++++++++++++++++++++\n",
      "\n",
      "                   \n",
      "++++++++++++++++++++++++++++++++++++++++++++++++++++++++++++\n",
      "Resiudal Vibration Expected\n",
      "==================================================\n",
      "         Expected Vibration\n",
      "Sensor 1      31.645 @ 76.9\n",
      "Sensor 2     15.153 @ 190.1\n",
      "Sensor 3     19.099 @ 145.0\n",
      "Sensor 4      13.047 @ 60.9\n",
      "==================================================\n",
      "End of Resiudal Vibration Expected\n",
      "++++++++++++++++++++++++++++++++++++++++++++++++++++++++++++\n",
      "\n",
      "                   \n",
      "++++++++++++++++++++++++++++++++++++++++++++++++++++++++++++\n",
      "SPLITS\n",
      "==================================================\n",
      "                   270  315\n",
      "weights_available          \n",
      "80                 1.0  0.0\n",
      "129                0.0  1.0\n",
      "==================================================\n",
      "End of SPLITS\n",
      "++++++++++++++++++++++++++++++++++++++++++++++++++++++++++++\n",
      "\n",
      "                   \n"
     ]
    },
    {
     "name": "stderr",
     "output_type": "stream",
     "text": [
      "C:\\Users\\shoai\\anaconda3\\envs\\myenv\\lib\\site-packages\\hsbalance\\model.py:255: UserWarning: This will change your model optimum solution.Choose confirm=True\n",
      "  warnings.warn('This will change your model optimum solution.'\n"
     ]
    }
   ],
   "source": [
    "#Solving the split problem\n",
    "\n",
    "split_BZA.split_solve()\n",
    "\n",
    "split_BZA.results()\n",
    "\n",
    "split_BZA.error()\n",
    "\n",
    "split_BZA.error(options='equ')\n",
    "\n",
    "split_BZA.error(options='problem_error') # getting the problem accuracy\n",
    "\n",
    "split_BZA.update()\n",
    "\n",
    "hs.convert_matrix_to_math(W_LeastSquares)  # The new W_LeastSquares\n",
    "\n",
    "split_BZA.update(confirm='True')\n",
    "\n",
    "hs.convert_matrix_to_math(W_LeastSquares)  # The new W_LeastSquares\n",
    "\n",
    "model_LeastSquares.rmse()\n",
    "\n",
    "print(model_LeastSquares.info())"
   ]
  },
  {
   "cell_type": "markdown",
   "id": "1ad4b4e0",
   "metadata": {},
   "source": [
    "\n",
    "\n",
    "\n",
    "\n"
   ]
  },
  {
   "cell_type": "markdown",
   "id": "75f9d9e9",
   "metadata": {
    "tags": []
   },
   "source": [
    "## Solving with MinMax:"
   ]
  },
  {
   "cell_type": "code",
   "execution_count": 77,
   "id": "dcefa666",
   "metadata": {},
   "outputs": [],
   "source": [
    "model_MinMax = hs.Min_max(A, alpha, name='MinMax') # Instantiate MinMax model"
   ]
  },
  {
   "cell_type": "code",
   "execution_count": 78,
   "id": "62fcb2c4",
   "metadata": {},
   "outputs": [],
   "source": [
    "W_MinMax = model_MinMax.solve() #solve"
   ]
  },
  {
   "cell_type": "code",
   "execution_count": 79,
   "id": "e7e19cea",
   "metadata": {
    "jupyter": {
     "source_hidden": true
    },
    "tags": []
   },
   "outputs": [
    {
     "data": {
      "text/plain": [
       "array([['270.552 @ 316.8'],\n",
       "       ['218.479 @ 102.6']], dtype='<U15')"
      ]
     },
     "execution_count": 79,
     "metadata": {},
     "output_type": "execute_result"
    }
   ],
   "source": [
    "hs.convert_matrix_to_math(W_MinMax)"
   ]
  },
  {
   "cell_type": "code",
   "execution_count": 80,
   "id": "5b7945b7",
   "metadata": {
    "jupyter": {
     "source_hidden": true
    },
    "tags": []
   },
   "outputs": [
    {
     "data": {
      "text/plain": [
       "array([['12.702 @ 43.5'],\n",
       "       ['13.95 @ 212.8'],\n",
       "       ['13.95 @ 112.6'],\n",
       "       ['13.95 @ 86.6']], dtype='<U13')"
      ]
     },
     "execution_count": 80,
     "metadata": {},
     "output_type": "execute_result"
    }
   ],
   "source": [
    "residuals_MinMax = model_MinMax.expected_residual_vibration()\n",
    "hs.convert_matrix_to_math(residuals_MinMax) # Expected residule vibrations"
   ]
  },
  {
   "cell_type": "markdown",
   "id": "d397fe24",
   "metadata": {
    "tags": []
   },
   "source": [
    "Root mean square error:"
   ]
  },
  {
   "cell_type": "code",
   "execution_count": 81,
   "id": "6cdb9053",
   "metadata": {
    "jupyter": {
     "source_hidden": true
    },
    "tags": []
   },
   "outputs": [
    {
     "data": {
      "text/plain": [
       "13.6383"
      ]
     },
     "execution_count": 81,
     "metadata": {},
     "output_type": "execute_result"
    }
   ],
   "source": [
    "rmse_MinMax = model_MinMax.rmse()\n",
    "rmse_MinMax"
   ]
  },
  {
   "cell_type": "code",
   "execution_count": 82,
   "id": "e1418383",
   "metadata": {},
   "outputs": [
    {
     "name": "stdout",
     "output_type": "stream",
     "text": [
      "\n",
      "++++++++++++++++++++++++++++++++++++++++++++++++++++++++++++\n",
      "MODEL\n",
      "++++++++++++++++++++++++++++++++++++++++++++++++++++++++++++\n",
      "\n",
      "++++++++++++++++++++++++++++++++++++++++++++++++++++++++++++\n",
      "MODEL TYPE\n",
      "==================================================\n",
      "Min_max\n",
      "==================================================\n",
      "End of MODEL TYPE\n",
      "++++++++++++++++++++++++++++++++++++++++++++++++++++++++++++\n",
      "\n",
      "                   \n",
      "++++++++++++++++++++++++++++++++++++++++++++++++++++++++++++\n",
      "MODEL NAME\n",
      "==================================================\n",
      "MinMax\n",
      "==================================================\n",
      "End of MODEL NAME\n",
      "++++++++++++++++++++++++++++++++++++++++++++++++++++++++++++\n",
      "\n",
      "                   \n",
      "++++++++++++++++++++++++++++++++++++++++++++++++++++++++++++\n",
      "INFLUENCE COEFFICIENT MATRIX\n",
      "==================================================\n",
      "\n",
      "++++++++++++++++++++++++++++++++++++++++\n",
      "Influence Coefficient Matrix\n",
      "++++++++++++++++++++++++++++++++++++++++\n",
      "\n",
      "++++++++++++++++++++++++++++++++++++++++\n",
      "Coefficient Values\n",
      "==============================\n",
      "                Plane 1        Plane 2\n",
      "Sensor 1  0.199 @ 284.3  0.118 @ 298.3\n",
      "Sensor 2  0.045 @ 321.6  0.164 @ 318.2\n",
      "Sensor 3   0.095 @ 20.3   0.054 @ 12.6\n",
      "Sensor 4  0.064 @ 162.9   0.083 @ 28.1\n",
      "==============================\n",
      "End of Coefficient Values\n",
      "++++++++++++++++++++++++++++++++++++++++\n",
      "\n",
      "                   \n",
      "++++++++++++++++++++++++++++++++++++++++\n",
      "Initial Vibration\n",
      "==============================\n",
      "             Vibration\n",
      "Sensor 1   42.0 @ 68.0\n",
      "Sensor 2  41.0 @ 221.0\n",
      "Sensor 3  27.0 @ 153.0\n",
      "Sensor 4  26.0 @ 325.0\n",
      "==============================\n",
      "End of Initial Vibration\n",
      "++++++++++++++++++++++++++++++++++++++++\n",
      "\n",
      "                   \n",
      "++++++++++++++++++++++++++++++++++++++++\n",
      "Trial Runs Vibration\n",
      "==============================\n",
      "               Plane 1       Plane 2\n",
      "Sensor 1   53.0 @ 54.0   30.0 @ 75.0\n",
      "Sensor 2  37.5 @ 220.0  57.0 @ 230.0\n",
      "Sensor 3  33.0 @ 144.0  22.0 @ 160.0\n",
      "Sensor 4  28.0 @ 315.0  35.0 @ 324.0\n",
      "==============================\n",
      "End of Trial Runs Vibration\n",
      "++++++++++++++++++++++++++++++++++++++++\n",
      "\n",
      "                   \n",
      "++++++++++++++++++++++++++++++++++++++++\n",
      "Trial Masses\n",
      "==============================\n",
      "                  Mass\n",
      "Plane 1    80.0 @ 90.0\n",
      "Plane 2  108.0 @ 293.0\n",
      "==============================\n",
      "End of Trial Masses\n",
      "++++++++++++++++++++++++++++++++++++++++\n",
      "\n",
      "                   \n",
      "==================================================\n",
      "End of INFLUENCE COEFFICIENT MATRIX\n",
      "++++++++++++++++++++++++++++++++++++++++++++++++++++++++++++\n",
      "\n",
      "                   \n",
      "++++++++++++++++++++++++++++++++++++++++++++++++++++++++++++\n",
      "INITIAL VIBRATION\n",
      "==================================================\n",
      "             Vibration\n",
      "Sensor 1   42.0 @ 68.0\n",
      "Sensor 2  41.0 @ 221.0\n",
      "Sensor 3  27.0 @ 153.0\n",
      "Sensor 4  26.0 @ 325.0\n",
      "==================================================\n",
      "End of INITIAL VIBRATION\n",
      "++++++++++++++++++++++++++++++++++++++++++++++++++++++++++++\n",
      "\n",
      "                   \n",
      "++++++++++++++++++++++++++++++++++++++++++++++++++++++++++++\n",
      "SOLUTION\n",
      "==================================================\n",
      "        Correction Masses\n",
      "Plane 1   270.552 @ 316.8\n",
      "Plane 2   218.479 @ 102.6\n",
      "==================================================\n",
      "End of SOLUTION\n",
      "++++++++++++++++++++++++++++++++++++++++++++++++++++++++++++\n",
      "\n",
      "                   \n",
      "++++++++++++++++++++++++++++++++++++++++++++++++++++++++++++\n",
      "RMSE\n",
      "==================================================\n",
      "13.6383\n",
      "==================================================\n",
      "End of RMSE\n",
      "++++++++++++++++++++++++++++++++++++++++++++++++++++++++++++\n",
      "\n",
      "                   \n",
      "++++++++++++++++++++++++++++++++++++++++++++++++++++++++++++\n",
      "Resiudal Vibration Expected\n",
      "==================================================\n",
      "         Expected Vibration\n",
      "Sensor 1      12.702 @ 43.5\n",
      "Sensor 2      13.95 @ 212.8\n",
      "Sensor 3      13.95 @ 112.6\n",
      "Sensor 4       13.95 @ 86.6\n",
      "==================================================\n",
      "End of Resiudal Vibration Expected\n",
      "++++++++++++++++++++++++++++++++++++++++++++++++++++++++++++\n",
      "\n",
      "                   \n"
     ]
    }
   ],
   "source": [
    "print(model_MinMax.info())"
   ]
  },
  {
   "cell_type": "markdown",
   "id": "43b4f866",
   "metadata": {
    "tags": []
   },
   "source": [
    "### MinMax_const\n"
   ]
  },
  {
   "cell_type": "markdown",
   "id": "881bb284",
   "metadata": {},
   "source": [
    "In order to constraint the weight to a certain limit we can perform a Constrained Minmax` model"
   ]
  },
  {
   "cell_type": "code",
   "execution_count": 83,
   "id": "598b2eff",
   "metadata": {},
   "outputs": [],
   "source": [
    "weight_const ={0 : 240, 1: 240} # limit weight to 120 oz\n",
    "model_MinMax_const = hs.Min_max(A, alpha, weight_const=weight_const, name='MinMax_const') # Instantiate MinMax model"
   ]
  },
  {
   "cell_type": "code",
   "execution_count": 84,
   "id": "dadb34a6",
   "metadata": {},
   "outputs": [],
   "source": [
    "W_MinMax_const = model_MinMax_const.solve() #solve"
   ]
  },
  {
   "cell_type": "code",
   "execution_count": 85,
   "id": "d2db52d7",
   "metadata": {},
   "outputs": [
    {
     "data": {
      "text/plain": [
       "array([['240.0 @ 312.6'],\n",
       "       ['202.428 @ 91.4']], dtype='<U14')"
      ]
     },
     "execution_count": 85,
     "metadata": {},
     "output_type": "execute_result"
    }
   ],
   "source": [
    "hs.convert_matrix_to_math(W_MinMax_const)"
   ]
  },
  {
   "cell_type": "code",
   "execution_count": 86,
   "id": "341e0587",
   "metadata": {},
   "outputs": [
    {
     "data": {
      "text/plain": [
       "array([['15.029 @ 46.0'],\n",
       "       ['15.029 @ 234.7'],\n",
       "       ['13.975 @ 117.1'],\n",
       "       ['15.029 @ 65.0']], dtype='<U14')"
      ]
     },
     "execution_count": 86,
     "metadata": {},
     "output_type": "execute_result"
    }
   ],
   "source": [
    "residuals_MinMax_const = model_MinMax_const.expected_residual_vibration()\n",
    "hs.convert_matrix_to_math(residuals_MinMax_const) # Expected residule vibrations"
   ]
  },
  {
   "cell_type": "markdown",
   "id": "9bea604f",
   "metadata": {},
   "source": [
    "Root mean square error:"
   ]
  },
  {
   "cell_type": "code",
   "execution_count": 87,
   "id": "9a83c1bd",
   "metadata": {},
   "outputs": [
    {
     "data": {
      "text/plain": [
       "14.7656"
      ]
     },
     "execution_count": 87,
     "metadata": {},
     "output_type": "execute_result"
    }
   ],
   "source": [
    "rmse_MinMax_const = model_MinMax_const.rmse()\n",
    "rmse_MinMax_const"
   ]
  },
  {
   "cell_type": "markdown",
   "id": "793c9314",
   "metadata": {
    "tags": []
   },
   "source": [
    "## Solving with Linear Matrix Inequality (LMI)"
   ]
  },
  {
   "cell_type": "code",
   "execution_count": 88,
   "id": "01e03c62",
   "metadata": {},
   "outputs": [],
   "source": [
    "weight_const ={0 : 230, 1: 230} # limit weight to 120 oz\n",
    "critical_planes = {1,2} #  setting the critical planes to be 2, 10 (note python start counting at 0)\n",
    "V_max = 15 # max vibration for non-critical planes\n",
    "model_LMI = hs.LMI(A, alpha, weight_const=weight_const, critical_planes=critical_planes, V_max=V_max\n",
    "                     , name='LMI') # Instantiate LMI model"
   ]
  },
  {
   "cell_type": "code",
   "execution_count": 89,
   "id": "9ce46bf7",
   "metadata": {
    "jupyter": {
     "source_hidden": true
    },
    "tags": []
   },
   "outputs": [],
   "source": [
    "W_LMI = model_LMI.solve() #solve"
   ]
  },
  {
   "cell_type": "code",
   "execution_count": 90,
   "id": "a15bdb69",
   "metadata": {
    "tags": []
   },
   "outputs": [
    {
     "data": {
      "text/plain": [
       "array([['230.0 @ 311.8'],\n",
       "       ['189.376 @ 88.2']], dtype='<U14')"
      ]
     },
     "execution_count": 90,
     "metadata": {},
     "output_type": "execute_result"
    }
   ],
   "source": [
    "hs.convert_matrix_to_math(W_LMI)"
   ]
  },
  {
   "cell_type": "code",
   "execution_count": 91,
   "id": "89d39c41",
   "metadata": {
    "jupyter": {
     "source_hidden": true
    },
    "tags": []
   },
   "outputs": [
    {
     "data": {
      "text/plain": [
       "array([['15.0 @ 47.1'],\n",
       "       ['17.15 @ 238.5'],\n",
       "       ['13.735 @ 118.9'],\n",
       "       ['15.0 @ 57.1']], dtype='<U14')"
      ]
     },
     "execution_count": 91,
     "metadata": {},
     "output_type": "execute_result"
    }
   ],
   "source": [
    "residuals_LMI = model_LMI.expected_residual_vibration()\n",
    "hs.convert_matrix_to_math(residuals_LMI) # Expected residule vibrations"
   ]
  },
  {
   "cell_type": "markdown",
   "id": "cbb45b9f",
   "metadata": {},
   "source": [
    "Root mean square error:"
   ]
  },
  {
   "cell_type": "code",
   "execution_count": 92,
   "id": "54b9c35d",
   "metadata": {
    "jupyter": {
     "source_hidden": true
    },
    "tags": []
   },
   "outputs": [
    {
     "data": {
      "text/plain": [
       "15.2212"
      ]
     },
     "execution_count": 92,
     "metadata": {},
     "output_type": "execute_result"
    }
   ],
   "source": [
    "rmse_LMI = model_LMI.rmse()\n",
    "rmse_LMI"
   ]
  },
  {
   "cell_type": "code",
   "execution_count": 93,
   "id": "cb3a358b",
   "metadata": {},
   "outputs": [
    {
     "name": "stdout",
     "output_type": "stream",
     "text": [
      "\n",
      "++++++++++++++++++++++++++++++++++++++++++++++++++++++++++++\n",
      "MODEL\n",
      "++++++++++++++++++++++++++++++++++++++++++++++++++++++++++++\n",
      "\n",
      "++++++++++++++++++++++++++++++++++++++++++++++++++++++++++++\n",
      "MODEL TYPE\n",
      "==================================================\n",
      "LMI\n",
      "==================================================\n",
      "End of MODEL TYPE\n",
      "++++++++++++++++++++++++++++++++++++++++++++++++++++++++++++\n",
      "\n",
      "                   \n",
      "++++++++++++++++++++++++++++++++++++++++++++++++++++++++++++\n",
      "MODEL NAME\n",
      "==================================================\n",
      "LMI\n",
      "==================================================\n",
      "End of MODEL NAME\n",
      "++++++++++++++++++++++++++++++++++++++++++++++++++++++++++++\n",
      "\n",
      "                   \n",
      "++++++++++++++++++++++++++++++++++++++++++++++++++++++++++++\n",
      "INFLUENCE COEFFICIENT MATRIX\n",
      "==================================================\n",
      "\n",
      "++++++++++++++++++++++++++++++++++++++++\n",
      "Influence Coefficient Matrix\n",
      "++++++++++++++++++++++++++++++++++++++++\n",
      "\n",
      "++++++++++++++++++++++++++++++++++++++++\n",
      "Coefficient Values\n",
      "==============================\n",
      "                Plane 1        Plane 2\n",
      "Sensor 1  0.199 @ 284.3  0.118 @ 298.3\n",
      "Sensor 2  0.045 @ 321.6  0.164 @ 318.2\n",
      "Sensor 3   0.095 @ 20.3   0.054 @ 12.6\n",
      "Sensor 4  0.064 @ 162.9   0.083 @ 28.1\n",
      "==============================\n",
      "End of Coefficient Values\n",
      "++++++++++++++++++++++++++++++++++++++++\n",
      "\n",
      "                   \n",
      "++++++++++++++++++++++++++++++++++++++++\n",
      "Initial Vibration\n",
      "==============================\n",
      "             Vibration\n",
      "Sensor 1   42.0 @ 68.0\n",
      "Sensor 2  41.0 @ 221.0\n",
      "Sensor 3  27.0 @ 153.0\n",
      "Sensor 4  26.0 @ 325.0\n",
      "==============================\n",
      "End of Initial Vibration\n",
      "++++++++++++++++++++++++++++++++++++++++\n",
      "\n",
      "                   \n",
      "++++++++++++++++++++++++++++++++++++++++\n",
      "Trial Runs Vibration\n",
      "==============================\n",
      "               Plane 1       Plane 2\n",
      "Sensor 1   53.0 @ 54.0   30.0 @ 75.0\n",
      "Sensor 2  37.5 @ 220.0  57.0 @ 230.0\n",
      "Sensor 3  33.0 @ 144.0  22.0 @ 160.0\n",
      "Sensor 4  28.0 @ 315.0  35.0 @ 324.0\n",
      "==============================\n",
      "End of Trial Runs Vibration\n",
      "++++++++++++++++++++++++++++++++++++++++\n",
      "\n",
      "                   \n",
      "++++++++++++++++++++++++++++++++++++++++\n",
      "Trial Masses\n",
      "==============================\n",
      "                  Mass\n",
      "Plane 1    80.0 @ 90.0\n",
      "Plane 2  108.0 @ 293.0\n",
      "==============================\n",
      "End of Trial Masses\n",
      "++++++++++++++++++++++++++++++++++++++++\n",
      "\n",
      "                   \n",
      "==================================================\n",
      "End of INFLUENCE COEFFICIENT MATRIX\n",
      "++++++++++++++++++++++++++++++++++++++++++++++++++++++++++++\n",
      "\n",
      "                   \n",
      "++++++++++++++++++++++++++++++++++++++++++++++++++++++++++++\n",
      "INITIAL VIBRATION\n",
      "==================================================\n",
      "             Vibration\n",
      "Sensor 1   42.0 @ 68.0\n",
      "Sensor 2  41.0 @ 221.0\n",
      "Sensor 3  27.0 @ 153.0\n",
      "Sensor 4  26.0 @ 325.0\n",
      "==================================================\n",
      "End of INITIAL VIBRATION\n",
      "++++++++++++++++++++++++++++++++++++++++++++++++++++++++++++\n",
      "\n",
      "                   \n",
      "++++++++++++++++++++++++++++++++++++++++++++++++++++++++++++\n",
      "SOLUTION\n",
      "==================================================\n",
      "        Correction Masses\n",
      "Plane 1     230.0 @ 311.8\n",
      "Plane 2    189.376 @ 88.2\n",
      "==================================================\n",
      "End of SOLUTION\n",
      "++++++++++++++++++++++++++++++++++++++++++++++++++++++++++++\n",
      "\n",
      "                   \n",
      "++++++++++++++++++++++++++++++++++++++++++++++++++++++++++++\n",
      "RMSE\n",
      "==================================================\n",
      "15.2212\n",
      "==================================================\n",
      "End of RMSE\n",
      "++++++++++++++++++++++++++++++++++++++++++++++++++++++++++++\n",
      "\n",
      "                   \n",
      "++++++++++++++++++++++++++++++++++++++++++++++++++++++++++++\n",
      "Resiudal Vibration Expected\n",
      "==================================================\n",
      "         Expected Vibration\n",
      "Sensor 1        15.0 @ 47.1\n",
      "Sensor 2      17.15 @ 238.5\n",
      "Sensor 3     13.735 @ 118.9\n",
      "Sensor 4        15.0 @ 57.1\n",
      "==================================================\n",
      "End of Resiudal Vibration Expected\n",
      "++++++++++++++++++++++++++++++++++++++++++++++++++++++++++++\n",
      "\n",
      "                   \n"
     ]
    }
   ],
   "source": [
    "print(model_LMI.info())"
   ]
  },
  {
   "cell_type": "markdown",
   "id": "e62ea916",
   "metadata": {
    "tags": []
   },
   "source": [
    "## Plotting"
   ]
  },
  {
   "cell_type": "code",
   "execution_count": 94,
   "id": "a24c2b00",
   "metadata": {
    "tags": []
   },
   "outputs": [],
   "source": [
    "models = [model_LeastSquares, model_MinMax, model_MinMax_const, model_LMI, my_model]"
   ]
  },
  {
   "cell_type": "code",
   "execution_count": 95,
   "id": "37f18576",
   "metadata": {
    "tags": []
   },
   "outputs": [],
   "source": [
    "def plot_models(models):\n",
    "    residule_vibration = {model.name:abs(model.expected_residual_vibration().ravel()) for model in models}\n",
    "    rmse = {model.name:model.rmse() for model in models}\n",
    "    fig, (ax0, ax1) = plt.subplots(2,1)\n",
    "    ax0.bar(rmse.keys(), rmse.values())\n",
    "    plt.xlabel('Models')\n",
    "    plt.ylabel('Vibration');\n",
    "    models_number = len(residule_vibration.values())\n",
    "    measuring_points = max((len(array) for array in residule_vibration.values()))\n",
    "\n",
    "    jet= plt.get_cmap('jet')\n",
    "    colors = iter(jet(np.linspace(0,1,models_number)))\n",
    "\n",
    "    step = 0\n",
    "    for array in residule_vibration.values():\n",
    "        ax1.bar(np.arange(len(array)) + step, array, color = next(colors), width = 0.8/models_number)\n",
    "        step += 0.9 / (models_number+1)\n",
    "    ax1.legend([model.name for model in models])\n",
    "    ax1.set_xticks(range(measuring_points), ['Sens. '+ str(point) for point in range(1, 1+measuring_points)],\n",
    "                  rotation =30);"
   ]
  },
  {
   "cell_type": "code",
   "execution_count": 96,
   "id": "c91fe026",
   "metadata": {
    "tags": []
   },
   "outputs": [
    {
     "data": {
      "application/vnd.jupyter.widget-view+json": {
       "model_id": "8ce538f6e0324c7aa3ee0de302d44a5a",
       "version_major": 2,
       "version_minor": 0
      },
      "image/png": "[encoded data removed]",
      "text/html": [
       "\n",
       "            <div style=\"display: inline-block;\">\n",
       "                <div class=\"jupyter-widgets widget-label\" style=\"text-align: center;\">\n",
       "                    Figure\n",
       "                </div>\n",
       "                <img src='data:image/png;base64,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' width=640.0/>\n",
       "            </div>\n",
       "        "
      ],
      "text/plain": [
       "Canvas(toolbar=Toolbar(toolitems=[('Home', 'Reset original view', 'home', 'home'), ('Back', 'Back to previous …"
      ]
     },
     "metadata": {},
     "output_type": "display_data"
    }
   ],
   "source": [
    "plot_models(models)"
   ]
  }
 ],
 "metadata": {
  "kernelspec": {
   "display_name": "Python 3 (ipykernel)",
   "language": "python",
   "name": "python3"
  },
  "language_info": {
   "codemirror_mode": {
    "name": "ipython",
    "version": 3
   },
   "file_extension": ".py",
   "mimetype": "text/x-python",
   "name": "python",
   "nbconvert_exporter": "python",
   "pygments_lexer": "ipython3",
   "version": "3.9.7"
  }
 },
 "nbformat": 4,
 "nbformat_minor": 5
}
