{
 "cells": [
  {
   "cell_type": "code",
   "execution_count": 1,
   "id": "c1b941b7",
   "metadata": {},
   "outputs": [
    {
     "name": "stdout",
     "output_type": "stream",
     "text": [
      "Using the Community license in this session. If you have a full Xpress license, first set the XPAUTH_PATH environment variable to the full path to your license file, xpauth.xpr, and then restart Python. If you want to use the FICO Community license and no longer want to see this message, set the XPAUTH_PATH environment variable to: /home/maged/anaconda3/envs/balance/lib/python3.8/site-packages/xpress/license/community-xpauth.xpr\n",
      "NB: setting XPAUTH_PATH will also affect any other Xpress products installed on your system.\n"
     ]
    }
   ],
   "source": [
    "import hsbalance as hs"
   ]
  },
  {
   "cell_type": "markdown",
   "id": "e7f60a45",
   "metadata": {},
   "source": [
    "# Introduction\n",
    "In real turbo-machinery balancing, usually we need to solve the problem for various speeds and load conditions. This can be confusing.    \n",
    "`hsbalance` provides a convienent tool to explicity and easily arrange the work."
   ]
  },
  {
   "cell_type": "markdown",
   "id": "04810b6f",
   "metadata": {},
   "source": [
    "# Example"
   ]
  },
  {
   "cell_type": "markdown",
   "id": "a5efab10",
   "metadata": {},
   "source": [
    "## Speed 1500"
   ]
  },
  {
   "cell_type": "code",
   "execution_count": 8,
   "id": "d6aa95ac",
   "metadata": {},
   "outputs": [],
   "source": [
    "# Writing A, alpha at speed 1500 in mathmatical form from site data\n",
    "A_1500 = [['20@40'],\n",
    "          ['12@59']]\n",
    "alpha_1500 = [['0.3@24', '0.5@55'],\n",
    "              ['0.6@55', '0.44@97']]\n",
    "# Converting the mathmatical data to cartesian.\n",
    "A = hs.convert_math_cart(A_1500)\n",
    "# Create alpha instance\n",
    "alpha = hs.Alpha()\n",
    "alpha.add(hs.convert_math_cart(alpha_1500))\n",
    "# Create condition for A and alpha at speed 1500\n",
    "condition_1500 =hs.Condition()\n",
    "condition_1500.add(A=A, alpha=alpha)"
   ]
  },
  {
   "cell_type": "markdown",
   "id": "4dbe4eea",
   "metadata": {},
   "source": [
    "## Speed 2300"
   ]
  },
  {
   "cell_type": "code",
   "execution_count": 9,
   "id": "3bac5667",
   "metadata": {},
   "outputs": [],
   "source": [
    "# Writing A, alpha at speed 2300 in mathmatical form from site data\n",
    "A_2300 = [['12@33'],\n",
    "          ['54@34']]\n",
    "alpha_2300 = [['0.112@24', '0.17@77'],\n",
    "              ['0.52@23', '0.67@45']]\n",
    "# Converting the mathmatical data to cartesian.\n",
    "A = hs.convert_math_cart(A_2300)\n",
    "# Create alpha instance\n",
    "alpha = hs.Alpha()\n",
    "alpha.add(hs.convert_math_cart(alpha_2300))\n",
    "# Create condition for A and alpha at speed 2300\n",
    "condition_2300 =hs.Condition()\n",
    "condition_2300.add(A=A, alpha=alpha)"
   ]
  },
  {
   "cell_type": "markdown",
   "id": "cc09367f",
   "metadata": {},
   "source": [
    "## Modeling"
   ]
  },
  {
   "cell_type": "code",
   "execution_count": 11,
   "id": "dbf0774e",
   "metadata": {},
   "outputs": [
    {
     "data": {
      "text/plain": [
       "array([['48.092@81.2'],\n",
       "       ['82.483@190.8']], dtype='<U12')"
      ]
     },
     "execution_count": 11,
     "metadata": {},
     "output_type": "execute_result"
    }
   ],
   "source": [
    "model = hs.LeastSquares(conditions=[condition_1500, condition_2300])\n",
    "hs.convert_cart_math(model.solve())"
   ]
  },
  {
   "cell_type": "code",
   "execution_count": 12,
   "id": "04c79bfa",
   "metadata": {},
   "outputs": [
    {
     "data": {
      "text/plain": [
       "9.4131"
      ]
     },
     "execution_count": 12,
     "metadata": {},
     "output_type": "execute_result"
    }
   ],
   "source": [
    "model.rmse()"
   ]
  }
 ],
 "metadata": {
  "kernelspec": {
   "display_name": "Python [conda env:balance] *",
   "language": "python",
   "name": "conda-env-balance-py"
  },
  "language_info": {
   "codemirror_mode": {
    "name": "ipython",
    "version": 3
   },
   "file_extension": ".py",
   "mimetype": "text/x-python",
   "name": "python",
   "nbconvert_exporter": "python",
   "pygments_lexer": "ipython3",
   "version": "3.8.12"
  }
 },
 "nbformat": 4,
 "nbformat_minor": 5
}
