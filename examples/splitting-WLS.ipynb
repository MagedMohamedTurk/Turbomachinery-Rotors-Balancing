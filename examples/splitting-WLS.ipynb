{
 "cells": [
  {
   "cell_type": "code",
   "execution_count": 1,
   "id": "0a4a46ad",
   "metadata": {},
   "outputs": [
    {
     "name": "stdout",
     "output_type": "stream",
     "text": [
      "Using the Community license in this session. If you have a full Xpress license, first set the XPAUTH_PATH environment variable to the full path to your license file, xpauth.xpr, and then restart Python. If you want to use the FICO Community license and no longer want to see this message, set the XPAUTH_PATH environment variable to: C:\\Users\\shoai\\anaconda3\\envs\\myenv\\Lib\\site-packages\\xpress\\license\\community-xpauth.xpr\n",
      "NB: setting XPAUTH_PATH will also affect any other Xpress products installed on your system.\n"
     ]
    }
   ],
   "source": [
    "# Importing modules\n",
    "try:\n",
    "    import hsbalance as hs;\n",
    "except ImportError:\n",
    "    !pip install hsbalance\n",
    "    import hsbalance as hs;"
   ]
  },
  {
   "cell_type": "code",
   "execution_count": 2,
   "id": "f622ade9",
   "metadata": {
    "scrolled": true
   },
   "outputs": [],
   "source": [
    "import numpy as np"
   ]
  },
  {
   "cell_type": "markdown",
   "id": "a602bc7e",
   "metadata": {},
   "source": [
    "# Huang test_case"
   ]
  },
  {
   "cell_type": "code",
   "execution_count": 3,
   "id": "f8088da8",
   "metadata": {
    "scrolled": true
   },
   "outputs": [],
   "source": [
    "ALPHA_math=[['0.199 @ 284.3', '0.118 @ 298.3'],\n",
    "       ['0.045 @ 321.6', '0.164 @ 318.2'],\n",
    "       ['0.095 @ 20.3', '0.054 @ 12.6'],\n",
    "       ['0.064 @ 162.9', '0.083 @ 28.1']]\n",
    "\n",
    "A_math=[['42@68'], ['41@221'],['27@153'],['26@325']] "
   ]
  },
  {
   "cell_type": "markdown",
   "id": "c7144ede",
   "metadata": {},
   "source": [
    "Convert to complex numbers (cartesian) form"
   ]
  },
  {
   "cell_type": "code",
   "execution_count": 4,
   "id": "7933f461",
   "metadata": {
    "scrolled": true
   },
   "outputs": [],
   "source": [
    "A = hs.convert_matrix_to_cart(A_math)\n",
    "ALPHA = hs.convert_matrix_to_cart(ALPHA_math)\n",
    "# A, ALPHA"
   ]
  },
  {
   "cell_type": "markdown",
   "id": "9524b2c9",
   "metadata": {},
   "source": [
    "Adding ALPHA"
   ]
  },
  {
   "cell_type": "code",
   "execution_count": 5,
   "id": "eb13e858",
   "metadata": {
    "scrolled": true
   },
   "outputs": [],
   "source": [
    "alpha = hs.Alpha()\n",
    "alpha.add(direct_matrix=ALPHA)"
   ]
  },
  {
   "cell_type": "code",
   "execution_count": 6,
   "id": "a41c59f0",
   "metadata": {
    "scrolled": true
   },
   "outputs": [
    {
     "name": "stderr",
     "output_type": "stream",
     "text": [
      "\n",
      "Not a square matrix --> no exact solution.\n",
      "\n",
      "No ill conditioned planes --> ok\n"
     ]
    }
   ],
   "source": [
    "alpha.check()"
   ]
  },
  {
   "cell_type": "code",
   "execution_count": 7,
   "id": "4fa0b512",
   "metadata": {
    "scrolled": true
   },
   "outputs": [
    {
     "name": "stdout",
     "output_type": "stream",
     "text": [
      "\n",
      "++++++++++++++++++++++++++++++++++++++++\n",
      "Influence Coefficient Matrix\n",
      "++++++++++++++++++++++++++++++++++++++++\n",
      "\n",
      "++++++++++++++++++++++++++++++++++++++++\n",
      "Coefficient Values\n",
      "==============================\n",
      "                Plane 1        Plane 2\n",
      "Sensor 1  0.199 @ 284.3  0.118 @ 298.3\n",
      "Sensor 2  0.045 @ 321.6  0.164 @ 318.2\n",
      "Sensor 3   0.095 @ 20.3   0.054 @ 12.6\n",
      "Sensor 4  0.064 @ 162.9   0.083 @ 28.1\n",
      "==============================\n",
      "End of Coefficient Values\n",
      "++++++++++++++++++++++++++++++++++++++++\n",
      "\n",
      "                   \n"
     ]
    }
   ],
   "source": [
    "print(alpha)"
   ]
  },
  {
   "cell_type": "markdown",
   "id": "4c81228e",
   "metadata": {},
   "source": [
    "## Solving with Least squares:"
   ]
  },
  {
   "cell_type": "code",
   "execution_count": 8,
   "id": "6b55e039",
   "metadata": {
    "scrolled": true
   },
   "outputs": [],
   "source": [
    " # Instantiate least square model"
   ]
  },
  {
   "cell_type": "code",
   "execution_count": 9,
   "id": "2ec2321b",
   "metadata": {
    "scrolled": true
   },
   "outputs": [],
   "source": [
    "model_LeastSquares = hs.LeastSquares(A, alpha)"
   ]
  },
  {
   "cell_type": "code",
   "execution_count": 10,
   "id": "25d4e6ab",
   "metadata": {
    "scrolled": true
   },
   "outputs": [],
   "source": [
    "W_LeastSquares = model_LeastSquares.solve() #solve"
   ]
  },
  {
   "cell_type": "code",
   "execution_count": 11,
   "id": "918ed0cd",
   "metadata": {
    "scrolled": true
   },
   "outputs": [
    {
     "data": {
      "text/plain": [
       "array([['319.223 @ 314.6'],\n",
       "       ['227.495 @ 103.7']], dtype='<U15')"
      ]
     },
     "execution_count": 11,
     "metadata": {},
     "output_type": "execute_result"
    }
   ],
   "source": [
    "hs.convert_matrix_to_math(W_LeastSquares)"
   ]
  },
  {
   "cell_type": "code",
   "execution_count": 12,
   "id": "05b32e14",
   "metadata": {
    "scrolled": true
   },
   "outputs": [
    {
     "data": {
      "text/plain": [
       "11.5318"
      ]
     },
     "execution_count": 12,
     "metadata": {},
     "output_type": "execute_result"
    }
   ],
   "source": [
    "model_LeastSquares.rmse()"
   ]
  },
  {
   "cell_type": "markdown",
   "id": "663277a5",
   "metadata": {},
   "source": [
    "## Splitting plane BZ-A"
   ]
  },
  {
   "cell_type": "code",
   "execution_count": 13,
   "id": "ed534718",
   "metadata": {
    "scrolled": true
   },
   "outputs": [],
   "source": [
    "split_BZA = model_LeastSquares.create_split()"
   ]
  },
  {
   "cell_type": "code",
   "execution_count": 14,
   "id": "3fe906a2",
   "metadata": {
    "scrolled": true
   },
   "outputs": [],
   "source": [
    "angles = np.arange(0,360,45)"
   ]
  },
  {
   "cell_type": "code",
   "execution_count": 15,
   "id": "596fbc86",
   "metadata": {
    "scrolled": true
   },
   "outputs": [],
   "source": [
    "split_BZA.split_setup(0, max_number_weights_per_hole=5, holes_available=[angles]\n",
    "                         ,weights_available=[5,10,20], max_weight_per_plane=319.223)"
   ]
  },
  {
   "cell_type": "code",
   "execution_count": 16,
   "id": "2dc3155c",
   "metadata": {
    "scrolled": true
   },
   "outputs": [
    {
     "name": "stdout",
     "output_type": "stream",
     "text": [
      "41.2 ms ± 6.81 ms per loop (mean ± std. dev. of 7 runs, 1 loop each)\n"
     ]
    }
   ],
   "source": [
    "%%timeit\n",
    "split_BZA.split_solve()"
   ]
  },
  {
   "cell_type": "code",
   "execution_count": 17,
   "id": "ea1b1cab",
   "metadata": {
    "scrolled": true
   },
   "outputs": [
    {
     "data": {
      "text/plain": [
       "array([[0., 0., 0., 0., 0., 0., 0., 0.],\n",
       "       [0., 0., 0., 0., 0., 0., 0., 0.],\n",
       "       [5., 0., 0., 0., 0., 0., 5., 5.]])"
      ]
     },
     "execution_count": 17,
     "metadata": {},
     "output_type": "execute_result"
    }
   ],
   "source": [
    "split_BZA.split_solve()"
   ]
  },
  {
   "cell_type": "code",
   "execution_count": 18,
   "id": "9559b8d7",
   "metadata": {
    "scrolled": true
   },
   "outputs": [
    {
     "data": {
      "text/html": [
       "<div>\n",
       "<style scoped>\n",
       "    .dataframe tbody tr th:only-of-type {\n",
       "        vertical-align: middle;\n",
       "    }\n",
       "\n",
       "    .dataframe tbody tr th {\n",
       "        vertical-align: top;\n",
       "    }\n",
       "\n",
       "    .dataframe thead tr th {\n",
       "        text-align: left;\n",
       "    }\n",
       "\n",
       "    .dataframe thead tr:last-of-type th {\n",
       "        text-align: right;\n",
       "    }\n",
       "</style>\n",
       "<table border=\"1\" class=\"dataframe\">\n",
       "  <thead>\n",
       "    <tr>\n",
       "      <th></th>\n",
       "      <th>0</th>\n",
       "      <th>270</th>\n",
       "      <th>315</th>\n",
       "    </tr>\n",
       "    <tr>\n",
       "      <th>weights_available</th>\n",
       "      <th></th>\n",
       "      <th></th>\n",
       "      <th></th>\n",
       "    </tr>\n",
       "  </thead>\n",
       "  <tbody>\n",
       "    <tr>\n",
       "      <th>5</th>\n",
       "      <td>0.0</td>\n",
       "      <td>0.0</td>\n",
       "      <td>0.0</td>\n",
       "    </tr>\n",
       "    <tr>\n",
       "      <th>10</th>\n",
       "      <td>0.0</td>\n",
       "      <td>0.0</td>\n",
       "      <td>0.0</td>\n",
       "    </tr>\n",
       "    <tr>\n",
       "      <th>20</th>\n",
       "      <td>5.0</td>\n",
       "      <td>5.0</td>\n",
       "      <td>5.0</td>\n",
       "    </tr>\n",
       "  </tbody>\n",
       "</table>\n",
       "</div>"
      ],
      "text/plain": [
       "                   0    270  315\n",
       "weights_available               \n",
       "5                  0.0  0.0  0.0\n",
       "10                 0.0  0.0  0.0\n",
       "20                 5.0  5.0  5.0"
      ]
     },
     "execution_count": 18,
     "metadata": {},
     "output_type": "execute_result"
    }
   ],
   "source": [
    "split_BZA.results()"
   ]
  },
  {
   "cell_type": "code",
   "execution_count": 19,
   "id": "bff59a8b",
   "metadata": {
    "scrolled": true
   },
   "outputs": [
    {
     "data": {
      "text/plain": [
       "array([77.82988302])"
      ]
     },
     "execution_count": 19,
     "metadata": {},
     "output_type": "execute_result"
    }
   ],
   "source": [
    "split_BZA.error()"
   ]
  },
  {
   "cell_type": "code",
   "execution_count": 20,
   "id": "32a45124",
   "metadata": {
    "scrolled": true
   },
   "outputs": [
    {
     "data": {
      "text/plain": [
       "array('241.421 @ 315.0', dtype='<U15')"
      ]
     },
     "execution_count": 20,
     "metadata": {},
     "output_type": "execute_result"
    }
   ],
   "source": [
    "split_BZA.error(options='equ')"
   ]
  },
  {
   "cell_type": "code",
   "execution_count": 21,
   "id": "49f03026",
   "metadata": {
    "scrolled": true
   },
   "outputs": [
    {
     "data": {
      "text/plain": [
       "array([0.])"
      ]
     },
     "execution_count": 21,
     "metadata": {},
     "output_type": "execute_result"
    }
   ],
   "source": [
    "split_BZA.error(options='problem_error') # getting the problem accuracy"
   ]
  },
  {
   "cell_type": "code",
   "execution_count": 22,
   "id": "0994402c",
   "metadata": {
    "scrolled": true
   },
   "outputs": [
    {
     "name": "stderr",
     "output_type": "stream",
     "text": [
      "C:\\Users\\shoai\\anaconda3\\envs\\myenv\\lib\\site-packages\\hsbalance\\model.py:255: UserWarning: This will change your model optimum solution.Choose confirm=True\n",
      "  warnings.warn('This will change your model optimum solution.'\n"
     ]
    },
    {
     "data": {
      "text/plain": [
       "array([[224.02137493-227.41570696j],\n",
       "       [-53.73888265+221.05673966j]])"
      ]
     },
     "execution_count": 22,
     "metadata": {},
     "output_type": "execute_result"
    }
   ],
   "source": [
    "split_BZA.update()"
   ]
  },
  {
   "cell_type": "code",
   "execution_count": 23,
   "id": "48da341b",
   "metadata": {
    "scrolled": true
   },
   "outputs": [
    {
     "data": {
      "text/plain": [
       "array([['319.223 @ 314.6'],\n",
       "       ['227.495 @ 103.7']], dtype='<U15')"
      ]
     },
     "execution_count": 23,
     "metadata": {},
     "output_type": "execute_result"
    }
   ],
   "source": [
    "hs.convert_matrix_to_math(W_LeastSquares)  # The new W_LeastSquares"
   ]
  },
  {
   "cell_type": "code",
   "execution_count": 24,
   "id": "1966f443",
   "metadata": {
    "scrolled": true
   },
   "outputs": [
    {
     "data": {
      "text/plain": [
       "array([[170.71067812-170.71067812j],\n",
       "       [-53.73888265+221.05673966j]])"
      ]
     },
     "execution_count": 24,
     "metadata": {},
     "output_type": "execute_result"
    }
   ],
   "source": [
    "split_BZA.update(confirm=True)"
   ]
  },
  {
   "cell_type": "code",
   "execution_count": 25,
   "id": "51399f94",
   "metadata": {
    "scrolled": true
   },
   "outputs": [
    {
     "data": {
      "text/plain": [
       "array([['241.421 @ 315.0'],\n",
       "       ['227.495 @ 103.7']], dtype='<U15')"
      ]
     },
     "execution_count": 25,
     "metadata": {},
     "output_type": "execute_result"
    }
   ],
   "source": [
    "hs.convert_matrix_to_math(W_LeastSquares)  # The new W_LeastSquares"
   ]
  },
  {
   "cell_type": "code",
   "execution_count": 26,
   "id": "01cfa4bb",
   "metadata": {
    "scrolled": true
   },
   "outputs": [
    {
     "data": {
      "text/plain": [
       "15.3235"
      ]
     },
     "execution_count": 26,
     "metadata": {},
     "output_type": "execute_result"
    }
   ],
   "source": [
    "model_LeastSquares.rmse()"
   ]
  },
  {
   "cell_type": "code",
   "execution_count": 27,
   "id": "47129eef",
   "metadata": {
    "scrolled": true
   },
   "outputs": [
    {
     "name": "stdout",
     "output_type": "stream",
     "text": [
      "\n",
      "++++++++++++++++++++++++++++++++++++++++++++++++++++++++++++\n",
      "MODEL\n",
      "++++++++++++++++++++++++++++++++++++++++++++++++++++++++++++\n",
      "\n",
      "++++++++++++++++++++++++++++++++++++++++++++++++++++++++++++\n",
      "MODEL TYPE\n",
      "==================================================\n",
      "LeastSquares\n",
      "==================================================\n",
      "End of MODEL TYPE\n",
      "++++++++++++++++++++++++++++++++++++++++++++++++++++++++++++\n",
      "\n",
      "                   \n",
      "++++++++++++++++++++++++++++++++++++++++++++++++++++++++++++\n",
      "INFLUENCE COEFFICIENT MATRIX\n",
      "==================================================\n",
      "\n",
      "++++++++++++++++++++++++++++++++++++++++\n",
      "Influence Coefficient Matrix\n",
      "++++++++++++++++++++++++++++++++++++++++\n",
      "\n",
      "++++++++++++++++++++++++++++++++++++++++\n",
      "Coefficient Values\n",
      "==============================\n",
      "                Plane 1        Plane 2\n",
      "Sensor 1  0.199 @ 284.3  0.118 @ 298.3\n",
      "Sensor 2  0.045 @ 321.6  0.164 @ 318.2\n",
      "Sensor 3   0.095 @ 20.3   0.054 @ 12.6\n",
      "Sensor 4  0.064 @ 162.9   0.083 @ 28.1\n",
      "==============================\n",
      "End of Coefficient Values\n",
      "++++++++++++++++++++++++++++++++++++++++\n",
      "\n",
      "                   \n",
      "==================================================\n",
      "End of INFLUENCE COEFFICIENT MATRIX\n",
      "++++++++++++++++++++++++++++++++++++++++++++++++++++++++++++\n",
      "\n",
      "                   \n",
      "++++++++++++++++++++++++++++++++++++++++++++++++++++++++++++\n",
      "INITIAL VIBRATION\n",
      "==================================================\n",
      "             Vibration\n",
      "Sensor 1   42.0 @ 68.0\n",
      "Sensor 2  41.0 @ 221.0\n",
      "Sensor 3  27.0 @ 153.0\n",
      "Sensor 4  26.0 @ 325.0\n",
      "==================================================\n",
      "End of INITIAL VIBRATION\n",
      "++++++++++++++++++++++++++++++++++++++++++++++++++++++++++++\n",
      "\n",
      "                   \n",
      "++++++++++++++++++++++++++++++++++++++++++++++++++++++++++++\n",
      "SOLUTION\n",
      "==================================================\n",
      "        Correction Masses\n",
      "Plane 1   241.421 @ 315.0\n",
      "Plane 2   227.495 @ 103.7\n",
      "==================================================\n",
      "End of SOLUTION\n",
      "++++++++++++++++++++++++++++++++++++++++++++++++++++++++++++\n",
      "\n",
      "                   \n",
      "++++++++++++++++++++++++++++++++++++++++++++++++++++++++++++\n",
      "RMSE\n",
      "==================================================\n",
      "15.3235\n",
      "==================================================\n",
      "End of RMSE\n",
      "++++++++++++++++++++++++++++++++++++++++++++++++++++++++++++\n",
      "\n",
      "                   \n",
      "++++++++++++++++++++++++++++++++++++++++++++++++++++++++++++\n",
      "Resiudal Vibration Expected\n",
      "==================================================\n",
      "         Expected Vibration\n",
      "Sensor 1       19.17 @ 54.4\n",
      "Sensor 2     13.014 @ 201.6\n",
      "Sensor 3     16.198 @ 122.3\n",
      "Sensor 4      12.913 @ 83.4\n",
      "==================================================\n",
      "End of Resiudal Vibration Expected\n",
      "++++++++++++++++++++++++++++++++++++++++++++++++++++++++++++\n",
      "\n",
      "                   \n",
      "++++++++++++++++++++++++++++++++++++++++++++++++++++++++++++\n",
      "SPLITS\n",
      "==================================================\n",
      "                   0    270  315\n",
      "weights_available               \n",
      "5                  0.0  0.0  0.0\n",
      "10                 0.0  0.0  0.0\n",
      "20                 5.0  5.0  5.0\n",
      "==================================================\n",
      "End of SPLITS\n",
      "++++++++++++++++++++++++++++++++++++++++++++++++++++++++++++\n",
      "\n",
      "                   \n"
     ]
    }
   ],
   "source": [
    "print(model_LeastSquares.info())"
   ]
  },
  {
   "cell_type": "markdown",
   "id": "4ef457ce",
   "metadata": {},
   "source": [
    "## Splitting plane BZ-C"
   ]
  },
  {
   "cell_type": "code",
   "execution_count": 28,
   "id": "7dc70508",
   "metadata": {
    "scrolled": true
   },
   "outputs": [],
   "source": [
    "split_BZC = model_LeastSquares.create_split()"
   ]
  },
  {
   "cell_type": "code",
   "execution_count": 29,
   "id": "3da7b0dc",
   "metadata": {
    "scrolled": true
   },
   "outputs": [],
   "source": [
    "angles = np.arange(22.5, 360, 45)"
   ]
  },
  {
   "cell_type": "code",
   "execution_count": 30,
   "id": "656c2e54",
   "metadata": {
    "scrolled": true
   },
   "outputs": [],
   "source": [
    "split_BZC.split_setup(1, max_number_weights_per_hole=3, holes_available=[angles]\n",
    "                         ,weights_available=[10,20], max_weight_per_plane=227)"
   ]
  },
  {
   "cell_type": "code",
   "execution_count": 31,
   "id": "e147a0cf",
   "metadata": {
    "scrolled": true
   },
   "outputs": [
    {
     "name": "stdout",
     "output_type": "stream",
     "text": [
      "28.5 ms ± 366 µs per loop (mean ± std. dev. of 7 runs, 10 loops each)\n"
     ]
    }
   ],
   "source": [
    "%%timeit\n",
    "split_BZC.split_solve()"
   ]
  },
  {
   "cell_type": "code",
   "execution_count": 32,
   "id": "4cf6b9f2",
   "metadata": {
    "scrolled": true
   },
   "outputs": [
    {
     "data": {
      "text/plain": [
       "array([[0., 4., 0., 0., 0., 0., 0., 0.],\n",
       "       [0., 0., 9., 0., 0., 0., 0., 0.]])"
      ]
     },
     "execution_count": 32,
     "metadata": {},
     "output_type": "execute_result"
    }
   ],
   "source": [
    "split_BZC.split_solve()"
   ]
  },
  {
   "cell_type": "code",
   "execution_count": 33,
   "id": "f3a6ee65",
   "metadata": {
    "scrolled": true
   },
   "outputs": [
    {
     "data": {
      "text/html": [
       "<div>\n",
       "<style scoped>\n",
       "    .dataframe tbody tr th:only-of-type {\n",
       "        vertical-align: middle;\n",
       "    }\n",
       "\n",
       "    .dataframe tbody tr th {\n",
       "        vertical-align: top;\n",
       "    }\n",
       "\n",
       "    .dataframe thead tr th {\n",
       "        text-align: left;\n",
       "    }\n",
       "\n",
       "    .dataframe thead tr:last-of-type th {\n",
       "        text-align: right;\n",
       "    }\n",
       "</style>\n",
       "<table border=\"1\" class=\"dataframe\">\n",
       "  <thead>\n",
       "    <tr>\n",
       "      <th></th>\n",
       "      <th>67.5</th>\n",
       "      <th>112.5</th>\n",
       "    </tr>\n",
       "    <tr>\n",
       "      <th>weights_available</th>\n",
       "      <th></th>\n",
       "      <th></th>\n",
       "    </tr>\n",
       "  </thead>\n",
       "  <tbody>\n",
       "    <tr>\n",
       "      <th>10</th>\n",
       "      <td>4.0</td>\n",
       "      <td>0.0</td>\n",
       "    </tr>\n",
       "    <tr>\n",
       "      <th>20</th>\n",
       "      <td>0.0</td>\n",
       "      <td>9.0</td>\n",
       "    </tr>\n",
       "  </tbody>\n",
       "</table>\n",
       "</div>"
      ],
      "text/plain": [
       "                  67.5  112.5\n",
       "weights_available            \n",
       "10                  4.0   0.0\n",
       "20                  0.0   9.0"
      ]
     },
     "execution_count": 33,
     "metadata": {},
     "output_type": "execute_result"
    }
   ],
   "source": [
    "split_BZC.results()"
   ]
  },
  {
   "cell_type": "code",
   "execution_count": 34,
   "id": "20a4b752",
   "metadata": {
    "scrolled": true
   },
   "outputs": [
    {
     "data": {
      "text/plain": [
       "array([17.80399053])"
      ]
     },
     "execution_count": 34,
     "metadata": {},
     "output_type": "execute_result"
    }
   ],
   "source": [
    "split_BZC.error()"
   ]
  },
  {
   "cell_type": "code",
   "execution_count": 35,
   "id": "e4afe820",
   "metadata": {
    "scrolled": true
   },
   "outputs": [
    {
     "data": {
      "text/plain": [
       "array('210.196 @ 104.8', dtype='<U15')"
      ]
     },
     "execution_count": 35,
     "metadata": {},
     "output_type": "execute_result"
    }
   ],
   "source": [
    "split_BZC.error(options='equ')"
   ]
  },
  {
   "cell_type": "code",
   "execution_count": 36,
   "id": "f2e72abd",
   "metadata": {
    "scrolled": true
   },
   "outputs": [
    {
     "data": {
      "text/plain": [
       "array([0.])"
      ]
     },
     "execution_count": 36,
     "metadata": {},
     "output_type": "execute_result"
    }
   ],
   "source": [
    "split_BZC.error(options='problem_error') # getting the problem accuracy"
   ]
  },
  {
   "cell_type": "code",
   "execution_count": 37,
   "id": "64bf90e5",
   "metadata": {
    "scrolled": true,
    "tags": []
   },
   "outputs": [
    {
     "name": "stderr",
     "output_type": "stream",
     "text": [
      "C:\\Users\\shoai\\anaconda3\\envs\\myenv\\lib\\site-packages\\hsbalance\\model.py:255: UserWarning: This will change your model optimum solution.Choose confirm=True\n",
      "  warnings.warn('This will change your model optimum solution.'\n"
     ]
    },
    {
     "data": {
      "text/plain": [
       "array([[170.71067812-170.71067812j],\n",
       "       [-53.73888265+221.05673966j]])"
      ]
     },
     "execution_count": 37,
     "metadata": {},
     "output_type": "execute_result"
    }
   ],
   "source": [
    "split_BZC.update()"
   ]
  },
  {
   "cell_type": "code",
   "execution_count": 38,
   "id": "baf89158",
   "metadata": {
    "scrolled": true,
    "tags": []
   },
   "outputs": [
    {
     "data": {
      "text/plain": [
       "array([['241.421 @ 315.0'],\n",
       "       ['227.495 @ 103.7']], dtype='<U15')"
      ]
     },
     "execution_count": 38,
     "metadata": {},
     "output_type": "execute_result"
    }
   ],
   "source": [
    "hs.convert_matrix_to_math(W_LeastSquares)  # The new W_LeastSquares"
   ]
  },
  {
   "cell_type": "code",
   "execution_count": 39,
   "id": "779ee7b1",
   "metadata": {
    "jupyter": {
     "source_hidden": true
    },
    "scrolled": true,
    "tags": []
   },
   "outputs": [
    {
     "data": {
      "text/plain": [
       "array([[170.71067812-170.71067812j],\n",
       "       [-53.57568053+203.25349715j]])"
      ]
     },
     "execution_count": 39,
     "metadata": {},
     "output_type": "execute_result"
    }
   ],
   "source": [
    "split_BZC.update(confirm=True)"
   ]
  },
  {
   "cell_type": "code",
   "execution_count": 40,
   "id": "11ae469a",
   "metadata": {
    "jupyter": {
     "source_hidden": true
    },
    "scrolled": true,
    "tags": []
   },
   "outputs": [
    {
     "data": {
      "text/plain": [
       "array([['241.421 @ 315.0'],\n",
       "       ['210.196 @ 104.8']], dtype='<U15')"
      ]
     },
     "execution_count": 40,
     "metadata": {},
     "output_type": "execute_result"
    }
   ],
   "source": [
    "hs.convert_matrix_to_math(W_LeastSquares)  # The new W_LeastSquares"
   ]
  },
  {
   "cell_type": "code",
   "execution_count": 41,
   "id": "0e6d9308",
   "metadata": {
    "scrolled": true
   },
   "outputs": [
    {
     "data": {
      "text/plain": [
       "14.9993"
      ]
     },
     "execution_count": 41,
     "metadata": {},
     "output_type": "execute_result"
    }
   ],
   "source": [
    "model_LeastSquares.rmse()"
   ]
  },
  {
   "cell_type": "code",
   "execution_count": 42,
   "id": "5374e943",
   "metadata": {
    "jupyter": {
     "source_hidden": true
    },
    "scrolled": true,
    "tags": []
   },
   "outputs": [
    {
     "name": "stdout",
     "output_type": "stream",
     "text": [
      "\n",
      "++++++++++++++++++++++++++++++++++++++++++++++++++++++++++++\n",
      "MODEL\n",
      "++++++++++++++++++++++++++++++++++++++++++++++++++++++++++++\n",
      "\n",
      "++++++++++++++++++++++++++++++++++++++++++++++++++++++++++++\n",
      "MODEL TYPE\n",
      "==================================================\n",
      "LeastSquares\n",
      "==================================================\n",
      "End of MODEL TYPE\n",
      "++++++++++++++++++++++++++++++++++++++++++++++++++++++++++++\n",
      "\n",
      "                   \n",
      "++++++++++++++++++++++++++++++++++++++++++++++++++++++++++++\n",
      "INFLUENCE COEFFICIENT MATRIX\n",
      "==================================================\n",
      "\n",
      "++++++++++++++++++++++++++++++++++++++++\n",
      "Influence Coefficient Matrix\n",
      "++++++++++++++++++++++++++++++++++++++++\n",
      "\n",
      "++++++++++++++++++++++++++++++++++++++++\n",
      "Coefficient Values\n",
      "==============================\n",
      "                Plane 1        Plane 2\n",
      "Sensor 1  0.199 @ 284.3  0.118 @ 298.3\n",
      "Sensor 2  0.045 @ 321.6  0.164 @ 318.2\n",
      "Sensor 3   0.095 @ 20.3   0.054 @ 12.6\n",
      "Sensor 4  0.064 @ 162.9   0.083 @ 28.1\n",
      "==============================\n",
      "End of Coefficient Values\n",
      "++++++++++++++++++++++++++++++++++++++++\n",
      "\n",
      "                   \n",
      "==================================================\n",
      "End of INFLUENCE COEFFICIENT MATRIX\n",
      "++++++++++++++++++++++++++++++++++++++++++++++++++++++++++++\n",
      "\n",
      "                   \n",
      "++++++++++++++++++++++++++++++++++++++++++++++++++++++++++++\n",
      "INITIAL VIBRATION\n",
      "==================================================\n",
      "             Vibration\n",
      "Sensor 1   42.0 @ 68.0\n",
      "Sensor 2  41.0 @ 221.0\n",
      "Sensor 3  27.0 @ 153.0\n",
      "Sensor 4  26.0 @ 325.0\n",
      "==================================================\n",
      "End of INITIAL VIBRATION\n",
      "++++++++++++++++++++++++++++++++++++++++++++++++++++++++++++\n",
      "\n",
      "                   \n",
      "++++++++++++++++++++++++++++++++++++++++++++++++++++++++++++\n",
      "SOLUTION\n",
      "==================================================\n",
      "        Correction Masses\n",
      "Plane 1   241.421 @ 315.0\n",
      "Plane 2   210.196 @ 104.8\n",
      "==================================================\n",
      "End of SOLUTION\n",
      "++++++++++++++++++++++++++++++++++++++++++++++++++++++++++++\n",
      "\n",
      "                   \n",
      "++++++++++++++++++++++++++++++++++++++++++++++++++++++++++++\n",
      "RMSE\n",
      "==================================================\n",
      "14.9993\n",
      "==================================================\n",
      "End of RMSE\n",
      "++++++++++++++++++++++++++++++++++++++++++++++++++++++++++++\n",
      "\n",
      "                   \n",
      "++++++++++++++++++++++++++++++++++++++++++++++++++++++++++++\n",
      "Resiudal Vibration Expected\n",
      "==================================================\n",
      "         Expected Vibration\n",
      "Sensor 1      17.298 @ 57.4\n",
      "Sensor 2     15.669 @ 206.5\n",
      "Sensor 3     15.293 @ 123.5\n",
      "Sensor 4      11.737 @ 79.2\n",
      "==================================================\n",
      "End of Resiudal Vibration Expected\n",
      "++++++++++++++++++++++++++++++++++++++++++++++++++++++++++++\n",
      "\n",
      "                   \n",
      "++++++++++++++++++++++++++++++++++++++++++++++++++++++++++++\n",
      "SPLITS\n",
      "==================================================\n",
      "                   0    270  315\n",
      "weights_available               \n",
      "5                  0.0  0.0  0.0\n",
      "10                 0.0  0.0  0.0\n",
      "20                 5.0  5.0  5.0\n",
      "\n",
      "                  67.5  112.5\n",
      "weights_available            \n",
      "10                  4.0   0.0\n",
      "20                  0.0   9.0\n",
      "==================================================\n",
      "End of SPLITS\n",
      "++++++++++++++++++++++++++++++++++++++++++++++++++++++++++++\n",
      "\n",
      "                   \n"
     ]
    }
   ],
   "source": [
    "print(model_LeastSquares.info())"
   ]
  },
  {
   "cell_type": "code",
   "execution_count": 43,
   "id": "2773f6ad",
   "metadata": {
    "scrolled": true
   },
   "outputs": [
    {
     "data": {
      "text/plain": [
       "[<hsbalance.model._Model.Split at 0x22aff7ffd90>,\n",
       " <hsbalance.model._Model.Split at 0x22aff8c2250>]"
      ]
     },
     "execution_count": 43,
     "metadata": {},
     "output_type": "execute_result"
    }
   ],
   "source": [
    "model_LeastSquares.split_instance   # We can see the splitting instances that override the optimum solution"
   ]
  }
 ],
 "metadata": {
  "kernelspec": {
   "display_name": "Python 3 (ipykernel)",
   "language": "python",
   "name": "python3"
  },
  "language_info": {
   "codemirror_mode": {
    "name": "ipython",
    "version": 3
   },
   "file_extension": ".py",
   "mimetype": "text/x-python",
   "name": "python",
   "nbconvert_exporter": "python",
   "pygments_lexer": "ipython3",
   "version": "3.9.7"
  }
 },
 "nbformat": 4,
 "nbformat_minor": 5
}
