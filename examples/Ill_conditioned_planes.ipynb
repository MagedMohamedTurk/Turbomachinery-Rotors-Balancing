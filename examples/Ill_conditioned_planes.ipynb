{
 "cells": [
  {
   "cell_type": "code",
   "execution_count": 1,
   "id": "3ebbee14",
   "metadata": {},
   "outputs": [
    {
     "name": "stdout",
     "output_type": "stream",
     "text": [
      "Requirement already satisfied: hsbalance in /home/maged/anaconda3/lib/python3.8/site-packages (0.5.2)\n",
      "Requirement already satisfied: cvxopt>=1.2 in /home/maged/anaconda3/lib/python3.8/site-packages (from hsbalance) (1.2.7)\n",
      "Requirement already satisfied: pandas>=1.3.5 in /home/maged/.local/lib/python3.8/site-packages (from hsbalance) (1.3.5)\n",
      "Requirement already satisfied: cvxpy>=1.1.18 in /home/maged/anaconda3/lib/python3.8/site-packages (from hsbalance) (1.1.18)\n",
      "Requirement already satisfied: osqp>=0.4.1 in /home/maged/.local/lib/python3.8/site-packages (from cvxpy>=1.1.18->hsbalance) (0.6.2.post0)\n",
      "Requirement already satisfied: numpy>=1.15 in /home/maged/.local/lib/python3.8/site-packages (from cvxpy>=1.1.18->hsbalance) (1.21.5)\n",
      "Requirement already satisfied: scs>=1.1.6 in /home/maged/.local/lib/python3.8/site-packages (from cvxpy>=1.1.18->hsbalance) (3.0.0)\n",
      "Requirement already satisfied: ecos>=2 in /home/maged/.local/lib/python3.8/site-packages (from cvxpy>=1.1.18->hsbalance) (2.0.8)\n",
      "Requirement already satisfied: scipy>=1.1.0 in /home/maged/.local/lib/python3.8/site-packages (from cvxpy>=1.1.18->hsbalance) (1.7.3)\n",
      "Requirement already satisfied: qdldl in /home/maged/.local/lib/python3.8/site-packages (from osqp>=0.4.1->cvxpy>=1.1.18->hsbalance) (0.1.5.post0)\n",
      "Requirement already satisfied: pytz>=2017.3 in /home/maged/anaconda3/lib/python3.8/site-packages (from pandas>=1.3.5->hsbalance) (2021.3)\n",
      "Requirement already satisfied: python-dateutil>=2.7.3 in /home/maged/.local/lib/python3.8/site-packages (from pandas>=1.3.5->hsbalance) (2.8.2)\n",
      "Requirement already satisfied: six>=1.5 in /home/maged/anaconda3/lib/python3.8/site-packages (from python-dateutil>=2.7.3->pandas>=1.3.5->hsbalance) (1.16.0)\n"
     ]
    },
    {
     "ename": "ModuleNotFoundError",
     "evalue": "No module named 'hsbalance'",
     "output_type": "error",
     "traceback": [
      "\u001b[0;31m---------------------------------------------------------------------------\u001b[0m",
      "\u001b[0;31mModuleNotFoundError\u001b[0m                       Traceback (most recent call last)",
      "\u001b[0;32m<ipython-input-1-071efd017d0f>\u001b[0m in \u001b[0;36m<module>\u001b[0;34m\u001b[0m\n\u001b[1;32m      2\u001b[0m \u001b[0;32mtry\u001b[0m\u001b[0;34m:\u001b[0m\u001b[0;34m\u001b[0m\u001b[0;34m\u001b[0m\u001b[0m\n\u001b[0;32m----> 3\u001b[0;31m     \u001b[0;32mimport\u001b[0m \u001b[0mhsbalance\u001b[0m \u001b[0;32mas\u001b[0m \u001b[0mhs\u001b[0m\u001b[0;34m;\u001b[0m\u001b[0;34m\u001b[0m\u001b[0;34m\u001b[0m\u001b[0m\n\u001b[0m\u001b[1;32m      4\u001b[0m \u001b[0;32mexcept\u001b[0m \u001b[0mImportError\u001b[0m\u001b[0;34m:\u001b[0m\u001b[0;34m\u001b[0m\u001b[0;34m\u001b[0m\u001b[0m\n",
      "\u001b[0;31mModuleNotFoundError\u001b[0m: No module named 'hsbalance'",
      "\nDuring handling of the above exception, another exception occurred:\n",
      "\u001b[0;31mModuleNotFoundError\u001b[0m                       Traceback (most recent call last)",
      "\u001b[0;32m<ipython-input-1-071efd017d0f>\u001b[0m in \u001b[0;36m<module>\u001b[0;34m\u001b[0m\n\u001b[1;32m      4\u001b[0m \u001b[0;32mexcept\u001b[0m \u001b[0mImportError\u001b[0m\u001b[0;34m:\u001b[0m\u001b[0;34m\u001b[0m\u001b[0;34m\u001b[0m\u001b[0m\n\u001b[1;32m      5\u001b[0m     \u001b[0mget_ipython\u001b[0m\u001b[0;34m(\u001b[0m\u001b[0;34m)\u001b[0m\u001b[0;34m.\u001b[0m\u001b[0msystem\u001b[0m\u001b[0;34m(\u001b[0m\u001b[0;34m'pip install hsbalance'\u001b[0m\u001b[0;34m)\u001b[0m\u001b[0;34m\u001b[0m\u001b[0;34m\u001b[0m\u001b[0m\n\u001b[0;32m----> 6\u001b[0;31m     \u001b[0;32mimport\u001b[0m \u001b[0mhsbalance\u001b[0m \u001b[0;32mas\u001b[0m \u001b[0mhs\u001b[0m\u001b[0;34m;\u001b[0m\u001b[0;34m\u001b[0m\u001b[0;34m\u001b[0m\u001b[0m\n\u001b[0m",
      "\u001b[0;31mModuleNotFoundError\u001b[0m: No module named 'hsbalance'"
     ]
    }
   ],
   "source": [
    "# Importing modules\n",
    "try:\n",
    "    import hsbalance as hs;\n",
    "except ImportError:\n",
    "    !pip install hsbalance\n",
    "    import hsbalance as hs;"
   ]
  },
  {
   "cell_type": "markdown",
   "id": "1045eff9",
   "metadata": {},
   "source": [
    "# Introduction\n",
    "\n",
    "This notebook discuss how the `hsbalance` package handles ill-conditioned planes problem"
   ]
  },
  {
   "cell_type": "markdown",
   "id": "0d840eef",
   "metadata": {},
   "source": [
    "Darlow discussed in his paper `Darlow, M. S. \"The identification and elimination of non-independent balance planes in influence coefficient balancing.\" Turbo Expo: Power for Land, Sea, and Air. Vol. 79603. American Society of Mechanical Engineers, 1982.` three test cases can be found in test cases in `/test/`"
   ]
  },
  {
   "cell_type": "markdown",
   "id": "a602bc7e",
   "metadata": {},
   "source": [
    "## Parameters"
   ]
  },
  {
   "cell_type": "code",
   "execution_count": null,
   "id": "f8088da8",
   "metadata": {},
   "outputs": [],
   "source": [
    "ALPHA_math=[\n",
    "                            ['1.41@45', '3.61@34', '3.61@34'],\n",
    "                            ['3.16@72', '2.24@27', '2.24@27'],\n",
    "                            ['2.83@45', '5@37', '5@37'],\n",
    "                            ['3.16@18', '3.61@34', '4.47@27']]\n",
    "A_math=[\n",
    "                            ['3.16@72'], \n",
    "                            ['3.16@18'],\n",
    "                            ['4.12@14'],\n",
    "                            ['5.39@68']]"
   ]
  },
  {
   "cell_type": "markdown",
   "id": "c7144ede",
   "metadata": {},
   "source": [
    "Convert to complex numbers (cartesian) form"
   ]
  },
  {
   "cell_type": "code",
   "execution_count": null,
   "id": "7933f461",
   "metadata": {},
   "outputs": [],
   "source": [
    "A = hs.convert_matrix_to_cart(A_math)\n",
    "ALPHA = hs.convert_matrix_to_cart(ALPHA_math)\n",
    "# A, ALPHA"
   ]
  },
  {
   "cell_type": "markdown",
   "id": "9524b2c9",
   "metadata": {},
   "source": [
    "Adding ALPHA"
   ]
  },
  {
   "cell_type": "code",
   "execution_count": null,
   "id": "eb13e858",
   "metadata": {},
   "outputs": [],
   "source": [
    "alpha = hs.Alpha()\n",
    "alpha.add(direct_matrix=ALPHA)"
   ]
  },
  {
   "cell_type": "code",
   "execution_count": null,
   "id": "a41c59f0",
   "metadata": {},
   "outputs": [],
   "source": [
    "alpha.check()"
   ]
  },
  {
   "cell_type": "markdown",
   "id": "eaf33269",
   "metadata": {},
   "source": [
    "A warning is raised that plane[1] (the second plane, remember python starts counting from 0) is ill-conditioned.  \n",
    "Ill-conditioned planes mean that they are algebraically depending on other planes. It means the ill-conditioned plane carries not new information to the system. When solving(especially with least squares method) the system tend to infiltrate (adding excessive masses at these planes)"
   ]
  },
  {
   "cell_type": "code",
   "execution_count": null,
   "id": "a3f92b25",
   "metadata": {},
   "outputs": [],
   "source": [
    "print(alpha)"
   ]
  },
  {
   "cell_type": "markdown",
   "id": "4c81228e",
   "metadata": {},
   "source": [
    "## Solving with Least squares:"
   ]
  },
  {
   "cell_type": "code",
   "execution_count": null,
   "id": "6b55e039",
   "metadata": {},
   "outputs": [],
   "source": [
    "model_LeastSquares = hs.LeastSquares(A, alpha, name='Least_squares') # Instantiate least square model"
   ]
  },
  {
   "cell_type": "code",
   "execution_count": null,
   "id": "25d4e6ab",
   "metadata": {},
   "outputs": [],
   "source": [
    "W_LeastSquares = model_LeastSquares.solve() #solve"
   ]
  },
  {
   "cell_type": "code",
   "execution_count": null,
   "id": "918ed0cd",
   "metadata": {},
   "outputs": [],
   "source": [
    "hs.convert_matrix_to_math(W_LeastSquares)"
   ]
  },
  {
   "cell_type": "code",
   "execution_count": null,
   "id": "73f67625",
   "metadata": {},
   "outputs": [],
   "source": [
    "residuals_LeastSquares = model_LeastSquares.expected_residual_vibration()\n",
    "hs.convert_matrix_to_math(residuals_LeastSquares) # Expected residule vibrations"
   ]
  },
  {
   "cell_type": "markdown",
   "id": "6360299c",
   "metadata": {},
   "source": [
    "Root mean square error:"
   ]
  },
  {
   "cell_type": "code",
   "execution_count": null,
   "id": "132aa695",
   "metadata": {},
   "outputs": [],
   "source": [
    "rmse_LeastSquares = model_LeastSquares.rmse()\n",
    "rmse_LeastSquares"
   ]
  },
  {
   "cell_type": "markdown",
   "id": "03102a20",
   "metadata": {},
   "source": [
    "### Discussion\n",
    "The second plane is ill-conditioned as seen from the check, caused the second and third planes to increase the masses excessively."
   ]
  },
  {
   "cell_type": "code",
   "execution_count": null,
   "id": "2c0f3846",
   "metadata": {},
   "outputs": [],
   "source": [
    "alpha.check(ill_condition_remove=True)"
   ]
  },
  {
   "cell_type": "markdown",
   "id": "84155239",
   "metadata": {},
   "source": [
    "by turning ill_condition_remove boolean to True we remove the second plane (ill-conditioned)"
   ]
  },
  {
   "cell_type": "code",
   "execution_count": null,
   "id": "29bef081",
   "metadata": {},
   "outputs": [],
   "source": [
    "print(alpha)"
   ]
  },
  {
   "cell_type": "markdown",
   "id": "aa4e2d8f",
   "metadata": {},
   "source": [
    "## Solving with Least squares:"
   ]
  },
  {
   "cell_type": "code",
   "execution_count": null,
   "id": "86c7e564",
   "metadata": {},
   "outputs": [],
   "source": [
    "model_LeastSquares = hs.LeastSquares(A, alpha, name='Least_squares') # Instantiate least square model"
   ]
  },
  {
   "cell_type": "code",
   "execution_count": null,
   "id": "eae81519",
   "metadata": {},
   "outputs": [],
   "source": [
    "W_LeastSquares = model_LeastSquares.solve() #solve"
   ]
  },
  {
   "cell_type": "code",
   "execution_count": null,
   "id": "6c7def4f",
   "metadata": {},
   "outputs": [],
   "source": [
    "hs.convert_matrix_to_math(W_LeastSquares)"
   ]
  },
  {
   "cell_type": "markdown",
   "id": "12671ab8",
   "metadata": {},
   "source": [
    "Remember those are weights for first and third planes as plane 2 has been removed by check."
   ]
  },
  {
   "cell_type": "code",
   "execution_count": null,
   "id": "876cf14e",
   "metadata": {},
   "outputs": [],
   "source": [
    "residuals_LeastSquares = model_LeastSquares.expected_residual_vibration()\n",
    "hs.convert_matrix_to_math(residuals_LeastSquares) # Expected residule vibrations"
   ]
  },
  {
   "cell_type": "markdown",
   "id": "1e4b23d2",
   "metadata": {},
   "source": [
    "Root mean square error:"
   ]
  },
  {
   "cell_type": "code",
   "execution_count": null,
   "id": "d2fd9071",
   "metadata": {},
   "outputs": [],
   "source": [
    "rmse_LeastSquares = model_LeastSquares.rmse()\n",
    "rmse_LeastSquares"
   ]
  },
  {
   "cell_type": "code",
   "execution_count": null,
   "id": "91b63eb3",
   "metadata": {},
   "outputs": [],
   "source": [
    "print(model_LeastSquares.info())"
   ]
  },
  {
   "cell_type": "markdown",
   "id": "bc67cae5",
   "metadata": {},
   "source": [
    "### Discussion\n",
    "by removing the second the correction weights at plane 3 has reduced to less than 4 times (from 5.14 kg to 1.14 kg). This causes a rise of RMSE and residual vibration on the other hand.   \n",
    "It is left to the engineer judgment weather to remove (or constrain) the ill-conditioned planes or leave it to get the best RMSE possible.  \n",
    "The target of this package is to give the engineer the best possible consulting service."
   ]
  },
  {
   "cell_type": "code",
   "execution_count": null,
   "id": "255ee9dd",
   "metadata": {},
   "outputs": [],
   "source": []
  }
 ],
 "metadata": {
  "kernelspec": {
   "display_name": "Python 3",
   "language": "python",
   "name": "python3"
  },
  "language_info": {
   "codemirror_mode": {
    "name": "ipython",
    "version": 3
   },
   "file_extension": ".py",
   "mimetype": "text/x-python",
   "name": "python",
   "nbconvert_exporter": "python",
   "pygments_lexer": "ipython3",
   "version": "3.6.13"
  }
 },
 "nbformat": 4,
 "nbformat_minor": 5
}
