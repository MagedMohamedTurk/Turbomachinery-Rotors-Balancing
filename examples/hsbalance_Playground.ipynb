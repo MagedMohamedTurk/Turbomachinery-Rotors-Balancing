{
 "cells": [
  {
   "cell_type": "code",
   "execution_count": 1,
   "id": "f622ade9",
   "metadata": {},
   "outputs": [
    {
     "name": "stdout",
     "output_type": "stream",
     "text": [
      "Using the Community license in this session. If you have a full Xpress license, first set the XPAUTH_PATH environment variable to the full path to your license file, xpauth.xpr, and then restart Python. If you want to use the FICO Community license and no longer want to see this message, set the XPAUTH_PATH environment variable to: /home/maged/anaconda3/envs/balance/lib/python3.8/site-packages/xpress/license/community-xpauth.xpr\n",
      "NB: setting XPAUTH_PATH will also affect any other Xpress products installed on your system.\n"
     ]
    }
   ],
   "source": [
    "import cvxpy as cp\n",
    "import numpy as np\n",
    "import cmath\n",
    "import hsbalance as hs\n",
    "import matplotlib.pyplot as plt\n",
    "%matplotlib widget"
   ]
  },
  {
   "cell_type": "markdown",
   "id": "1045eff9",
   "metadata": {},
   "source": [
    "# Introduction\n",
    "\n",
    "This notebook is aimed to give a quick presentation for `hsbalance` package.\n",
    "`hsbalance` is Python based package that is meant to find the optimized solution of rotor balancing problem"
   ]
  },
  {
   "cell_type": "markdown",
   "id": "ce6e51fc",
   "metadata": {},
   "source": [
    "# A. Independent Systems\n",
    "# # Creating Model\n",
    "<b>for independent systems where number of balancing planes are equal to the number of measuring points we do not need optimization process as number of equations are equal to the number of unknowns"
   ]
  },
  {
   "cell_type": "markdown",
   "id": "9aa04d4f",
   "metadata": {},
   "source": [
    "1. Enter the initial vibration column vector `A`:\n",
    "- each row represents the vibration at certain measuring plane.\n",
    "- vibration is to be represented in the form ('amplitude' @ 'phase(degrees)')\n",
    "- Enter slow roll vibration column `A0`"
   ]
  },
  {
   "cell_type": "code",
   "execution_count": 2,
   "id": "120f9d5d",
   "metadata": {},
   "outputs": [],
   "source": [
    "A_math = [['170@112'],\n",
    "     ['53@78']]\n",
    "\n",
    "A0_math = [['12@30'],\n",
    "      ['12@30']]"
   ]
  },
  {
   "cell_type": "markdown",
   "id": "d5c36143",
   "metadata": {},
   "source": [
    "2. Enter trial mass effect matrix `B`\n",
    "B = [['B00', 'B01']\n",
    "     ['B10', 'B11']]\n",
    "where:\n",
    "- B00: vibration at measuring point 1 when trial mass at balancing plane 1\n",
    "- B01: vibration at measuring point 1 when trial mass at balancing plane 2\n",
    "- B00: vibration at measuring point 2 when trial mass at balancing plane 1\n",
    "- B00: vibration at measuring point 2 when trial mass at balancing plane 2\n",
    "\n",
    "As a general rule in this notebook columns will be for balancing planes and rows are for measuring points"
   ]
  },
  {
   "cell_type": "code",
   "execution_count": 3,
   "id": "330726b5",
   "metadata": {},
   "outputs": [],
   "source": [
    "B_math = [['235@94', '189@115'],\n",
    "     ['58@68', '77@104']]"
   ]
  },
  {
   "cell_type": "markdown",
   "id": "0897ea1d",
   "metadata": {},
   "source": [
    "3. Enter the trial mass amounts in row vector `U`:"
   ]
  },
  {
   "cell_type": "code",
   "execution_count": 4,
   "id": "e583d2c3",
   "metadata": {},
   "outputs": [],
   "source": [
    "U_math = ['1.15@0', '1.15@0']"
   ]
  },
  {
   "cell_type": "markdown",
   "id": "90c543d6",
   "metadata": {},
   "source": [
    "4. Transform matrices to cartesian (complex number) form:"
   ]
  },
  {
   "cell_type": "code",
   "execution_count": 5,
   "id": "ced90208",
   "metadata": {},
   "outputs": [
    {
     "name": "stdout",
     "output_type": "stream",
     "text": [
      "A=\n",
      "[[-63.68312088+157.62125528j]\n",
      " [ 11.01931961 +51.84182284j]]\n",
      "\n",
      "A0=\n",
      "[[10.39230485+6.j]\n",
      " [10.39230485+6.j]]\n",
      "\n",
      "B=\n",
      "[[-16.39277133+234.42755181j -79.87485147+171.29217175j]\n",
      " [ 21.72718242 +53.77666356j -18.62798596 +74.71277092j]]\n",
      "\n",
      "U = [1.15+0.j 1.15+0.j]\n"
     ]
    }
   ],
   "source": [
    "A = hs.convert_matrix_to_cart(A_math)\n",
    "A0 = hs.convert_matrix_to_cart(A0_math)\n",
    "B = hs.convert_matrix_to_cart(B_math)\n",
    "U = hs.convert_matrix_to_cart(U_math)\n",
    "print('A=\\n{}\\n\\nA0=\\n{}\\n\\nB=\\n{}\\n\\nU = {}'.format(A, A0, B, U))"
   ]
  },
  {
   "cell_type": "markdown",
   "id": "4f0e57d4",
   "metadata": {},
   "source": [
    "As in this example, this is an independent system where number of measuring points (M) are equal to the number of balancing planes (N).\n",
    "we, thus, except an exact solution for balancing weights `W` that can be calculated first by find the Influence Coefficients matrix `ALPHA`:\n",
    "\\begin{align}\n",
    "  \\tag {1}\n",
    "  \\alpha = \\frac{(B - A)}{U} \\label{eq:test1}\n",
    "\\end{align}\n",
    "\\begin{align}\n",
    "    \\tag {2}\n",
    "    W = - \\alpha^{-1}(A - A_{0})\n",
    "\\end{align}"
   ]
  },
  {
   "cell_type": "code",
   "execution_count": 6,
   "id": "827258e9",
   "metadata": {},
   "outputs": [],
   "source": [
    "Alpha_CI = (B - A)/U\n",
    "W = -np.linalg.inv(Alpha_CI) @ (A - A0)"
   ]
  },
  {
   "cell_type": "code",
   "execution_count": 7,
   "id": "643ee924",
   "metadata": {},
   "outputs": [
    {
     "data": {
      "text/plain": [
       "array([['78.433@58.4', '18.427@139.8'],\n",
       "       ['9.462@10.2', '32.56@142.4']], dtype='<U12')"
      ]
     },
     "execution_count": 7,
     "metadata": {},
     "output_type": "execute_result"
    }
   ],
   "source": [
    "hs.convert_matrix_to_math(Alpha_CI)"
   ]
  },
  {
   "cell_type": "code",
   "execution_count": 8,
   "id": "65bc18c2",
   "metadata": {},
   "outputs": [
    {
     "data": {
      "text/plain": [
       "array([[-0.99141015-1.68129487j],\n",
       "       [-0.67544632+0.58516963j]])"
      ]
     },
     "execution_count": 8,
     "metadata": {},
     "output_type": "execute_result"
    }
   ],
   "source": [
    "W"
   ]
  },
  {
   "cell_type": "markdown",
   "id": "0c2e6a2c",
   "metadata": {},
   "source": [
    "Transform back to mathematical expression form"
   ]
  },
  {
   "cell_type": "code",
   "execution_count": 9,
   "id": "57a97681",
   "metadata": {},
   "outputs": [
    {
     "name": "stdout",
     "output_type": "stream",
     "text": [
      "ALPHA=\n",
      "[['78.433@58.4' '18.427@139.8']\n",
      " ['9.462@10.2' '32.56@142.4']]\n",
      "\n",
      "W=\n",
      "[['1.952@239.5']\n",
      " ['0.894@139.1']]\n"
     ]
    }
   ],
   "source": [
    "ALPHA_math = hs.convert_matrix_to_math(Alpha_CI)\n",
    "W_math = hs.convert_matrix_to_math(W)\n",
    "print('ALPHA=\\n{}\\n\\nW=\\n{}'.format(ALPHA_math, W_math)) "
   ]
  },
  {
   "cell_type": "markdown",
   "id": "0f3007e1",
   "metadata": {},
   "source": [
    ">This means we need to put 2 grams at angel 57.4 degrees on balancing plane 1, and 1.1 grams at 301.1 degrees on plane 2."
   ]
  },
  {
   "cell_type": "markdown",
   "id": "b674f5aa",
   "metadata": {},
   "source": [
    "- Lets Try out the same independent system problem using our optimization modeling code:  \n",
    "- first we will create a model of the system parameters:  \n",
    "- we will be using least squares model to solve the problem using optimization technique to minimize the squares of errors:"
   ]
  },
  {
   "cell_type": "code",
   "execution_count": 10,
   "id": "daabd21c",
   "metadata": {},
   "outputs": [],
   "source": [
    "alpha = hs.Alpha()  # create an instance of alpha class\n",
    "alpha.add(A=A, B=B, U=U)  # calculate alpha from parameters"
   ]
  },
  {
   "cell_type": "code",
   "execution_count": 11,
   "id": "ba77b050",
   "metadata": {},
   "outputs": [
    {
     "data": {
      "text/plain": [
       "array([['78.433@58.4', '18.427@139.8'],\n",
       "       ['9.462@10.2', '32.56@142.4']], dtype='<U12')"
      ]
     },
     "execution_count": 11,
     "metadata": {},
     "output_type": "execute_result"
    }
   ],
   "source": [
    "hs.convert_matrix_to_math(alpha.value)"
   ]
  },
  {
   "cell_type": "code",
   "execution_count": 12,
   "id": "79ed7a35",
   "metadata": {},
   "outputs": [],
   "source": [
    "my_model = hs.LeastSquares(A-A0, alpha)"
   ]
  },
  {
   "cell_type": "code",
   "execution_count": 13,
   "id": "7f8aef54",
   "metadata": {},
   "outputs": [],
   "source": [
    "W = my_model.solve()"
   ]
  },
  {
   "cell_type": "code",
   "execution_count": 14,
   "id": "6a1a2ca0",
   "metadata": {},
   "outputs": [
    {
     "data": {
      "text/plain": [
       "array([['1.952@239.5'],\n",
       "       ['0.894@139.1']], dtype='<U11')"
      ]
     },
     "execution_count": 14,
     "metadata": {},
     "output_type": "execute_result"
    }
   ],
   "source": [
    "hs.convert_matrix_to_math(W)"
   ]
  },
  {
   "cell_type": "code",
   "execution_count": 15,
   "id": "344a2bd9",
   "metadata": {},
   "outputs": [
    {
     "ename": "NameError",
     "evalue": "name 'tools' is not defined",
     "output_type": "error",
     "traceback": [
      "\u001b[0;31m---------------------------------------------------------------------------\u001b[0m",
      "\u001b[0;31mNameError\u001b[0m                                 Traceback (most recent call last)",
      "\u001b[0;32m/tmp/ipykernel_13786/578947897.py\u001b[0m in \u001b[0;36m<module>\u001b[0;34m\u001b[0m\n\u001b[0;32m----> 1\u001b[0;31m \u001b[0mmy_model\u001b[0m\u001b[0;34m.\u001b[0m\u001b[0mrmse\u001b[0m\u001b[0;34m(\u001b[0m\u001b[0;34m)\u001b[0m\u001b[0;34m\u001b[0m\u001b[0;34m\u001b[0m\u001b[0m\n\u001b[0m",
      "\u001b[0;32m~/Turbomachinery-Rotors-Balancing/src/hsbalance/model.py\u001b[0m in \u001b[0;36mrmse\u001b[0;34m(self)\u001b[0m\n\u001b[1;32m     58\u001b[0m         \u001b[0mReturns\u001b[0m \u001b[0mthe\u001b[0m \u001b[0mroot\u001b[0m \u001b[0mmean\u001b[0m \u001b[0msquares\u001b[0m \u001b[0;32mfrom\u001b[0m \u001b[0mtools\u001b[0m \u001b[0mmodule\u001b[0m\u001b[0;34m\u001b[0m\u001b[0;34m\u001b[0m\u001b[0m\n\u001b[1;32m     59\u001b[0m         \"\"\"\n\u001b[0;32m---> 60\u001b[0;31m         \u001b[0;32mreturn\u001b[0m \u001b[0mtools\u001b[0m\u001b[0;34m.\u001b[0m\u001b[0mrmse\u001b[0m\u001b[0;34m(\u001b[0m\u001b[0mself\u001b[0m\u001b[0;34m.\u001b[0m\u001b[0mexpected_residual_vibration\u001b[0m\u001b[0;34m(\u001b[0m\u001b[0;34m)\u001b[0m\u001b[0;34m)\u001b[0m\u001b[0;34m\u001b[0m\u001b[0;34m\u001b[0m\u001b[0m\n\u001b[0m\u001b[1;32m     61\u001b[0m     \u001b[0;32mdef\u001b[0m \u001b[0mcreate_split\u001b[0m\u001b[0;34m(\u001b[0m\u001b[0mself\u001b[0m\u001b[0;34m)\u001b[0m\u001b[0;34m:\u001b[0m\u001b[0;34m\u001b[0m\u001b[0;34m\u001b[0m\u001b[0m\n\u001b[1;32m     62\u001b[0m         \"\"\"\n",
      "\u001b[0;31mNameError\u001b[0m: name 'tools' is not defined"
     ]
    }
   ],
   "source": [
    "my_model.rmse()"
   ]
  },
  {
   "cell_type": "markdown",
   "id": "ae22e637",
   "metadata": {},
   "source": [
    "Which is exactly as the exact solution"
   ]
  },
  {
   "cell_type": "markdown",
   "id": "ac24142c",
   "metadata": {},
   "source": [
    "# A. Dependent Systems\n",
    "## Introduction\n",
    "In dependent systems, number of measuring points are less than the number of balancing planes.  \n",
    "This will lead to a problem with infinite number of solutions as the number of unknowns are less than the number of equations.  \n",
    "We can use optimization technique here effectively to reduce the error and we can apply constraints to our model."
   ]
  },
  {
   "cell_type": "markdown",
   "id": "0d840eef",
   "metadata": {},
   "source": [
    "We will be example.[[1]](#1) which presents a 1150 MW nuclear power turbine-generator\n",
    "balancing problem. The system consists of 11 measuring points and 5 balancing planes. (independent system)  \n",
    "In practical plane #4 was not accessible.  \n",
    "\n",
    "\n",
    "<a id=\"1\">[1]</a> \n",
    "Gunter, E J, Allaire, P E, and Foiles, W C. Balancing a 1150 MW turbine-generator. United Kingdom: N. p., 2000. Web.\n"
   ]
  },
  {
   "cell_type": "markdown",
   "id": "a602bc7e",
   "metadata": {},
   "source": [
    "## Parameters"
   ]
  },
  {
   "cell_type": "code",
   "execution_count": null,
   "id": "f8088da8",
   "metadata": {},
   "outputs": [],
   "source": [
    "ALPHA_math=[\n",
    "                            ['9.8@117', '17@124', '7.2@114', '38.5@77'],\n",
    "                            ['2.7@43', '14.3@317', '4.5@213', '14.3@270'],\n",
    "                            ['12.5@323', '25@261', '15.2@158', '30@238'],\n",
    "                            ['22.4@92', '32.6@45', '23.3@315', '27.8@210'], \n",
    "                            ['26@94', '40.3@9', '25@330', '34@213'],\n",
    "                            ['40.3@355', '43@144', '29.6@61', '65.4@322'],\n",
    "                            ['20.6@339', '32.3@152', '36.7@41', '61.8@322'],\n",
    "                            ['12.6@226', '37.6@52', '18.8@153', '26@176'],\n",
    "                            ['13.4@209', '26.9@76', '47.5@98', '71.7@312'],\n",
    "                            ['13.4@154', '22.4@307', '52@299', '102@165'],\n",
    "                            ['5.4@24', '7.2@199', '22.4@2', '27.8@99']]\n",
    "\n",
    "A_math=[\n",
    "                            ['55@259'], \n",
    "                            ['45@118'],\n",
    "                            ['124@21'],\n",
    "                            ['138@349'],\n",
    "                            ['107@349'],\n",
    "                            ['90@280'],\n",
    "                            ['58@354'],\n",
    "                            ['108@201'],\n",
    "                            ['88@190'],\n",
    "                            ['56@48'],\n",
    "                            ['73@158']]"
   ]
  },
  {
   "cell_type": "markdown",
   "id": "c7144ede",
   "metadata": {},
   "source": [
    "Convert to complex numbers (cartesian) form"
   ]
  },
  {
   "cell_type": "code",
   "execution_count": null,
   "id": "7933f461",
   "metadata": {},
   "outputs": [],
   "source": [
    "A = hs.convert_matrix_to_cart(A_math)\n",
    "ALPHA = hs.convert_matrix_to_cart(ALPHA_math)\n",
    "# A, ALPHA"
   ]
  },
  {
   "cell_type": "markdown",
   "id": "9524b2c9",
   "metadata": {},
   "source": [
    "Adding ALPHA"
   ]
  },
  {
   "cell_type": "code",
   "execution_count": null,
   "id": "eb13e858",
   "metadata": {},
   "outputs": [],
   "source": [
    "alpha = hs.Alpha()\n",
    "alpha.add(direct_matrix=ALPHA)"
   ]
  },
  {
   "cell_type": "code",
   "execution_count": null,
   "id": "a41c59f0",
   "metadata": {},
   "outputs": [],
   "source": [
    "alpha.check()"
   ]
  },
  {
   "cell_type": "markdown",
   "id": "4c81228e",
   "metadata": {},
   "source": [
    "## Solving with Least squares:"
   ]
  },
  {
   "cell_type": "code",
   "execution_count": null,
   "id": "6b55e039",
   "metadata": {},
   "outputs": [],
   "source": [
    "model_LeastSquares = hs.LeastSquares(A, alpha, name='Least_squares') # Instantiate least square model"
   ]
  },
  {
   "cell_type": "code",
   "execution_count": null,
   "id": "25d4e6ab",
   "metadata": {},
   "outputs": [],
   "source": [
    "W_LeastSquares = model_LeastSquares.solve() #solve"
   ]
  },
  {
   "cell_type": "code",
   "execution_count": null,
   "id": "918ed0cd",
   "metadata": {},
   "outputs": [],
   "source": [
    "hs.convert_matrix_to_math(W_LeastSquares)"
   ]
  },
  {
   "cell_type": "code",
   "execution_count": null,
   "id": "73f67625",
   "metadata": {},
   "outputs": [],
   "source": [
    "residuals_LeastSquares = model_LeastSquares.expected_residual_vibration()\n",
    "hs.convert_matrix_to_math(residuals_LeastSquares) # Expected residule vibrations"
   ]
  },
  {
   "cell_type": "markdown",
   "id": "6360299c",
   "metadata": {},
   "source": [
    "Root mean square error:"
   ]
  },
  {
   "cell_type": "code",
   "execution_count": null,
   "id": "132aa695",
   "metadata": {},
   "outputs": [],
   "source": [
    "rmse_LeastSquares = model_LeastSquares.rmse()\n",
    "rmse_LeastSquares"
   ]
  },
  {
   "cell_type": "markdown",
   "id": "03102a20",
   "metadata": {},
   "source": [
    "### Discussion\n",
    "Least square has iterated over to get the minimum squares of errors (hence, the least `RMSE`)  \n",
    "Doing so, it does it blindly so we can see that it add huge amount of weight at plane 1 (3.8 kg!), meanwhile vibration on bearing #3 is expected to be 106 $\\mu$ which is probably an alarm value!!"
   ]
  },
  {
   "cell_type": "markdown",
   "id": "1ad4b4e0",
   "metadata": {},
   "source": [
    "\n",
    "\n",
    "\n",
    "\n"
   ]
  },
  {
   "cell_type": "markdown",
   "id": "75f9d9e9",
   "metadata": {},
   "source": [
    "## Solving with MinMax:"
   ]
  },
  {
   "cell_type": "code",
   "execution_count": null,
   "id": "dcefa666",
   "metadata": {},
   "outputs": [],
   "source": [
    "model_MinMax = hs.Min_max(A, alpha, name='MinMax') # Instantiate MinMax model"
   ]
  },
  {
   "cell_type": "code",
   "execution_count": null,
   "id": "62fcb2c4",
   "metadata": {},
   "outputs": [],
   "source": [
    "W_MinMax = model_MinMax.solve() #solve"
   ]
  },
  {
   "cell_type": "code",
   "execution_count": null,
   "id": "e7e19cea",
   "metadata": {},
   "outputs": [],
   "source": [
    "hs.convert_matrix_to_math(W_MinMax)"
   ]
  },
  {
   "cell_type": "code",
   "execution_count": null,
   "id": "5b7945b7",
   "metadata": {},
   "outputs": [],
   "source": [
    "residuals_MinMax = model_MinMax.expected_residual_vibration()\n",
    "hs.convert_matrix_to_math(residuals_MinMax) # Expected residule vibrations"
   ]
  },
  {
   "cell_type": "markdown",
   "id": "d397fe24",
   "metadata": {},
   "source": [
    "Root mean square error:"
   ]
  },
  {
   "cell_type": "code",
   "execution_count": null,
   "id": "6cdb9053",
   "metadata": {},
   "outputs": [],
   "source": [
    "rmse_MinMax = model_MinMax.rmse()\n",
    "rmse_MinMax"
   ]
  },
  {
   "cell_type": "markdown",
   "id": "43b4f866",
   "metadata": {},
   "source": [
    "### Discussion\n",
    "`MinMax` is a great optimization tool that tends to, instead of unbiased `Least Squares`, level up the residuals to minimize the maximum. here we see that we have a great improvement in the residual vibrations (max 70$\\mu\\$).  \n",
    "The downside is putting more and more weights in the correction (4.4 grams in plane 1 now!) and ends up with higher RMSE."
   ]
  },
  {
   "cell_type": "markdown",
   "id": "881bb284",
   "metadata": {},
   "source": [
    "In order to constraint the weight to a certain limit we can perform a Constrained Minmax` model"
   ]
  },
  {
   "cell_type": "code",
   "execution_count": null,
   "id": "598b2eff",
   "metadata": {},
   "outputs": [],
   "source": [
    "weight_const ={0 : 3.402, 1 : 3.402, 2 : 3.402, 3 : 3.402} # limit weight to 120 oz\n",
    "model_MinMax_const = hs.Min_max(A, alpha, weight_const=weight_const, name='MinMax_const') # Instantiate MinMax model"
   ]
  },
  {
   "cell_type": "code",
   "execution_count": null,
   "id": "dadb34a6",
   "metadata": {},
   "outputs": [],
   "source": [
    "W_MinMax_const = model_MinMax_const.solve() #solve"
   ]
  },
  {
   "cell_type": "code",
   "execution_count": null,
   "id": "d2db52d7",
   "metadata": {},
   "outputs": [],
   "source": [
    "hs.convert_matrix_to_math(W_MinMax_const)"
   ]
  },
  {
   "cell_type": "code",
   "execution_count": null,
   "id": "341e0587",
   "metadata": {},
   "outputs": [],
   "source": [
    "residuals_MinMax_const = model_MinMax_const.expected_residual_vibration()\n",
    "hs.convert_matrix_to_math(residuals_MinMax_const) # Expected residule vibrations"
   ]
  },
  {
   "cell_type": "markdown",
   "id": "9bea604f",
   "metadata": {},
   "source": [
    "Root mean square error:"
   ]
  },
  {
   "cell_type": "code",
   "execution_count": null,
   "id": "9a83c1bd",
   "metadata": {},
   "outputs": [],
   "source": [
    "rmse_MinMax_const = model_MinMax_const.rmse()\n",
    "rmse_MinMax_const"
   ]
  },
  {
   "cell_type": "markdown",
   "id": "657660fa",
   "metadata": {},
   "source": [
    "### Discussion\n",
    "Constrained MinMAx` has done its job in minimizing the weights to 3.402 Kg (120 oz).  \n",
    "The downside is that we got more maximum vibration in residuals (73$\\mu\\$)"
   ]
  },
  {
   "cell_type": "markdown",
   "id": "793c9314",
   "metadata": {},
   "source": [
    "## Solving with Linear Matrix Inequality (LMI)"
   ]
  },
  {
   "cell_type": "markdown",
   "id": "cb8b15ae",
   "metadata": {},
   "source": [
    "In certain situations, instead of being unbiased ---> `Least Squares` or leveled ---> `MinMax`, we actually want to be BIASED to certain planes. In other words we want the optimzer to do its best to decrease certain planes (`critical planes`) and keep the others under a `lazy constrains` just below certain amount of vibration level."
   ]
  },
  {
   "cell_type": "code",
   "execution_count": null,
   "id": "01e03c62",
   "metadata": {},
   "outputs": [],
   "source": [
    "weight_const ={0 : 3.402, 1 : 3.402, 2 : 3.402, 3 : 3.402} # limit weight to 120 oz\n",
    "critical_planes = {1, 9} #  setting the critical planes to be 2, 10 (note python start counting at 0)\n",
    "V_max = 76 # max vibration for non-critical planes\n",
    "model_LMI = hs.LMI(A, alpha, weight_const=weight_const, critical_planes=critical_planes, V_max=V_max\n",
    "                     , name='LMI') # Instantiate LMI model"
   ]
  },
  {
   "cell_type": "code",
   "execution_count": null,
   "id": "9ce46bf7",
   "metadata": {},
   "outputs": [],
   "source": [
    "W_LMI = model_LMI.solve() #solve"
   ]
  },
  {
   "cell_type": "code",
   "execution_count": null,
   "id": "a15bdb69",
   "metadata": {},
   "outputs": [],
   "source": [
    "hs.convert_matrix_to_math(W_LMI)"
   ]
  },
  {
   "cell_type": "code",
   "execution_count": null,
   "id": "89d39c41",
   "metadata": {},
   "outputs": [],
   "source": [
    "residuals_LMI = model_LMI.expected_residual_vibration()\n",
    "hs.convert_matrix_to_math(residuals_LMI) # Expected residule vibrations"
   ]
  },
  {
   "cell_type": "markdown",
   "id": "cbb45b9f",
   "metadata": {},
   "source": [
    "Root mean square error:"
   ]
  },
  {
   "cell_type": "code",
   "execution_count": null,
   "id": "54b9c35d",
   "metadata": {},
   "outputs": [],
   "source": [
    "rmse_LMI = model_LMI.rmse()\n",
    "rmse_LMI"
   ]
  },
  {
   "cell_type": "markdown",
   "id": "56e6e085",
   "metadata": {},
   "source": [
    "### Discussion\n",
    "LMI model has been biased to plane 2 with a slight enhancement and plane 10 which greatly decreased from 69.7$\\mu$ to 45.1$\\mu$ (35% decrease) but that was with the cost of increasing non critical planes to the limit we have assigned (76$\\mu\\$)"
   ]
  },
  {
   "cell_type": "code",
   "execution_count": null,
   "id": "4bf8d6b9",
   "metadata": {},
   "outputs": [],
   "source": []
  },
  {
   "cell_type": "markdown",
   "id": "e62ea916",
   "metadata": {},
   "source": [
    "## Plotting"
   ]
  },
  {
   "cell_type": "code",
   "execution_count": null,
   "id": "a24c2b00",
   "metadata": {},
   "outputs": [],
   "source": [
    "models = [model_LeastSquares, model_MinMax, model_MinMax_const, model_LMI]"
   ]
  },
  {
   "cell_type": "code",
   "execution_count": null,
   "id": "37f18576",
   "metadata": {},
   "outputs": [],
   "source": [
    "def plot_models(models):\n",
    "    residule_vibration = {model.name:abs(model.expected_residual_vibration().ravel()) for model in models}\n",
    "    rmse = {model.name:model.rmse() for model in models}\n",
    "    fig, (ax0, ax1) = plt.subplots(2, 1)\n",
    "    ax0.bar(rmse.keys(), rmse.values())\n",
    "    plt.xlabel('Models')\n",
    "    plt.ylabel('Vibration');\n",
    "    models_number = len(residule_vibration.values())\n",
    "    measuring_points = max((len(array) for array in residule_vibration.values()))\n",
    "\n",
    "    jet= plt.get_cmap('jet')\n",
    "    colors = iter(jet(np.linspace(0,1,models_number)))\n",
    "\n",
    "    step = 0\n",
    "    for array in residule_vibration.values():\n",
    "        ax1.bar(np.arange(len(array)) + step, array, color = next(colors), width = 1/models_number)\n",
    "        step += 1 / (models_number+1)\n",
    "    ax1.legend([model.name for model in models])\n",
    "    ax1.set_xticks(range(measuring_points), ['M.P '+ str(point) for point in range(1, 1+measuring_points)],\n",
    "                  rotation =45);"
   ]
  },
  {
   "cell_type": "code",
   "execution_count": null,
   "id": "c91fe026",
   "metadata": {},
   "outputs": [],
   "source": [
    "plot_models(models)"
   ]
  },
  {
   "cell_type": "code",
   "execution_count": null,
   "id": "fb884e52",
   "metadata": {},
   "outputs": [],
   "source": []
  },
  {
   "cell_type": "code",
   "execution_count": null,
   "id": "fcde27e2",
   "metadata": {},
   "outputs": [],
   "source": []
  },
  {
   "cell_type": "code",
   "execution_count": null,
   "id": "50450d4e",
   "metadata": {},
   "outputs": [],
   "source": []
  },
  {
   "cell_type": "code",
   "execution_count": null,
   "id": "d66902f0",
   "metadata": {},
   "outputs": [],
   "source": []
  },
  {
   "cell_type": "code",
   "execution_count": null,
   "id": "fdc88c0a",
   "metadata": {},
   "outputs": [],
   "source": []
  },
  {
   "cell_type": "code",
   "execution_count": null,
   "id": "2d29c5c3",
   "metadata": {},
   "outputs": [],
   "source": []
  }
 ],
 "metadata": {
  "kernelspec": {
   "display_name": "Python [conda env:balance] *",
   "language": "python",
   "name": "conda-env-balance-py"
  },
  "language_info": {
   "codemirror_mode": {
    "name": "ipython",
    "version": 3
   },
   "file_extension": ".py",
   "mimetype": "text/x-python",
   "name": "python",
   "nbconvert_exporter": "python",
   "pygments_lexer": "ipython3",
   "version": "3.8.12"
  }
 },
 "nbformat": 4,
 "nbformat_minor": 5
}
