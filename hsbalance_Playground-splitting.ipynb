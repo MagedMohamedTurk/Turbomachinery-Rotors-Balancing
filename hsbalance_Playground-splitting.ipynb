{
 "cells": [
  {
   "cell_type": "code",
   "execution_count": 1,
   "id": "f622ade9",
   "metadata": {},
   "outputs": [
    {
     "name": "stdout",
     "output_type": "stream",
     "text": [
      "Using the Community license in this session. If you have a full Xpress license, first set the XPAUTH_PATH environment variable to the full path to your license file, xpauth.xpr, and then restart Python. If you want to use the FICO Community license and no longer want to see this message, set the XPAUTH_PATH environment variable to: /home/maged/anaconda3/envs/balance/lib/python3.8/site-packages/xpress/license/community-xpauth.xpr\n",
      "NB: setting XPAUTH_PATH will also affect any other Xpress products installed on your system.\n"
     ]
    }
   ],
   "source": [
    "import cvxpy as cp\n",
    "import numpy as np\n",
    "import cmath\n",
    "from hsbalance import tools, model\n",
    "from hsbalance.CI_matrix import Alpha\n",
    "import matplotlib.pyplot as plt\n",
    "%matplotlib widget"
   ]
  },
  {
   "cell_type": "markdown",
   "id": "a602bc7e",
   "metadata": {},
   "source": [
    "# Huange test_case"
   ]
  },
  {
   "cell_type": "markdown",
   "id": "17f1f0c2",
   "metadata": {},
   "source": [
    "The configuration of the gas turbine we consider is shown in Fig. 1. This gas turbine has a mass of 727,000 Kg\n",
    "and is 61.65 m long.\n",
    "This gas turbine has three planes (BZ-A, BZ-C and BZ-E) available for balancing. However, in most cases, only\n",
    "two planes (BZ-A and BZ-E) are used because of the difficulty of placing weights in plane BZ-C. The objective\n",
    "of balancing here is to minimize the maximum vibration amplitude of the rotor at the measuring planes by using\n",
    "balance weights placed in planes BZ-A and BZ-E.\n",
    "For this case, the only available balance weight type for balance planes BZ-A and BZ-E is 142gr. Each balance\n",
    "plane also has a limited number of weight holes, as shown in Fig. 1 (Plane BZ-A has balance holes placed every 7.5\n",
    "degrees, and plane BZ-E has balance holes placed every 5 degrees). It is possible to use all available balance holes.\n",
    "However, there is one extra constraint: at most one weight can be put in each balance hole.\n"
   ]
  },
  {
   "cell_type": "code",
   "execution_count": 2,
   "id": "f8088da8",
   "metadata": {},
   "outputs": [],
   "source": [
    "ALPHA_math=[\n",
    "                            ['0.085@27', '0.05@82'],\n",
    "                            ['0.053@57', '0.071@15']]\n",
    "\n",
    "A_math=[\n",
    "                            ['32@357'], \n",
    "                            ['105@346']]"
   ]
  },
  {
   "cell_type": "markdown",
   "id": "c7144ede",
   "metadata": {},
   "source": [
    "Convert to complex numbers (cartesian) form"
   ]
  },
  {
   "cell_type": "code",
   "execution_count": 3,
   "id": "7933f461",
   "metadata": {},
   "outputs": [],
   "source": [
    "A = tools.convert_matrix_to_cart(A_math)\n",
    "ALPHA = tools.convert_matrix_to_cart(ALPHA_math)\n",
    "# A, ALPHA"
   ]
  },
  {
   "cell_type": "markdown",
   "id": "9524b2c9",
   "metadata": {},
   "source": [
    "Adding ALPHA"
   ]
  },
  {
   "cell_type": "code",
   "execution_count": 4,
   "id": "eb13e858",
   "metadata": {},
   "outputs": [],
   "source": [
    "alpha = Alpha()\n",
    "alpha.add(direct_matrix=ALPHA)"
   ]
  },
  {
   "cell_type": "code",
   "execution_count": 5,
   "id": "a41c59f0",
   "metadata": {},
   "outputs": [
    {
     "name": "stdout",
     "output_type": "stream",
     "text": [
      "Influence Matrix is asymmetrical, check your data\n",
      "\n",
      "No ill-conditioned planes --> OK\n"
     ]
    },
    {
     "name": "stderr",
     "output_type": "stream",
     "text": [
      "/home/maged/Turbomachinery-Rotors-Balancing/hsbalance/CI_matrix.py:56: UserWarning: Warning: Influence Matrix is asymmetrical!\n",
      "  warnings.warn('Warning: Influence Matrix is asymmetrical!')\n"
     ]
    }
   ],
   "source": [
    "alpha.check()"
   ]
  },
  {
   "cell_type": "markdown",
   "id": "4c81228e",
   "metadata": {},
   "source": [
    "## Solving with Least squares:"
   ]
  },
  {
   "cell_type": "code",
   "execution_count": 6,
   "id": "6b55e039",
   "metadata": {},
   "outputs": [],
   "source": [
    "model_LeastSquares = model.LeastSquares(A, alpha, name='Least_squares') # Instantiate least square model"
   ]
  },
  {
   "cell_type": "code",
   "execution_count": 7,
   "id": "25d4e6ab",
   "metadata": {},
   "outputs": [],
   "source": [
    "W_LeastSquares = model_LeastSquares.solve() #solve"
   ]
  },
  {
   "cell_type": "code",
   "execution_count": 8,
   "id": "918ed0cd",
   "metadata": {},
   "outputs": [
    {
     "data": {
      "text/plain": [
       "array([['639.888@73.8'],\n",
       "       ['1122.814@165.2']], dtype='<U14')"
      ]
     },
     "execution_count": 8,
     "metadata": {},
     "output_type": "execute_result"
    }
   ],
   "source": [
    "tools.convert_matrix_to_math(W_LeastSquares)"
   ]
  },
  {
   "cell_type": "markdown",
   "id": "663277a5",
   "metadata": {},
   "source": [
    "## Splitting plane BZ-A"
   ]
  },
  {
   "cell_type": "markdown",
   "id": "668d510e",
   "metadata": {},
   "source": [
    "* Holes available: we select angles from 30-150 to reduce calculation time, holes spaced by 7.5 degrees"
   ]
  },
  {
   "cell_type": "code",
   "execution_count": 9,
   "id": "3fe906a2",
   "metadata": {},
   "outputs": [],
   "source": [
    "angles = np.arange(30,150,7.5)"
   ]
  },
  {
   "cell_type": "markdown",
   "id": "6edfacb8",
   "metadata": {},
   "source": [
    "* Weights available is 142 gram (5 ounces) and only one weight per hole is allowed.\n",
    "* We can also constrain the problem to 2000 grams per plane to avoid solution infliteration. "
   ]
  },
  {
   "cell_type": "code",
   "execution_count": 10,
   "id": "2dc3155c",
   "metadata": {},
   "outputs": [
    {
     "name": "stdout",
     "output_type": "stream",
     "text": [
      "59.5 ms ± 6.17 ms per loop (mean ± std. dev. of 7 runs, 10 loops each)\n"
     ]
    }
   ],
   "source": [
    "%%timeit\n",
    "df, W_split, W_equ, error_splitting, prob_error = model_LeastSquares.split(0, max_number_weights_per_hole=1, holes_available=[angles]\n",
    "                         ,weights_available=[142], max_weight_per_plane=2000)"
   ]
  },
  {
   "cell_type": "code",
   "execution_count": 11,
   "id": "ea1b1cab",
   "metadata": {},
   "outputs": [
    {
     "data": {
      "text/html": [
       "<div>\n",
       "<style scoped>\n",
       "    .dataframe tbody tr th:only-of-type {\n",
       "        vertical-align: middle;\n",
       "    }\n",
       "\n",
       "    .dataframe tbody tr th {\n",
       "        vertical-align: top;\n",
       "    }\n",
       "\n",
       "    .dataframe thead th {\n",
       "        text-align: right;\n",
       "    }\n",
       "</style>\n",
       "<table border=\"1\" class=\"dataframe\">\n",
       "  <thead>\n",
       "    <tr style=\"text-align: right;\">\n",
       "      <th></th>\n",
       "      <th>37.5</th>\n",
       "      <th>52.5</th>\n",
       "      <th>75.0</th>\n",
       "      <th>97.5</th>\n",
       "      <th>105.0</th>\n",
       "    </tr>\n",
       "  </thead>\n",
       "  <tbody>\n",
       "    <tr>\n",
       "      <th>142</th>\n",
       "      <td>1.0</td>\n",
       "      <td>1.0</td>\n",
       "      <td>1.0</td>\n",
       "      <td>1.0</td>\n",
       "      <td>1.0</td>\n",
       "    </tr>\n",
       "  </tbody>\n",
       "</table>\n",
       "</div>"
      ],
      "text/plain": [
       "     37.5   52.5   75.0   97.5   105.0\n",
       "142    1.0    1.0    1.0    1.0    1.0"
      ]
     },
     "execution_count": 11,
     "metadata": {},
     "output_type": "execute_result"
    }
   ],
   "source": [
    "df, W_split, W_equ, error_splitting, prob_error = model_LeastSquares.split(0, max_number_weights_per_hole=1, holes_available=[angles]\n",
    "                         ,weights_available=[142], max_weight_per_plane=2000)\n",
    "df"
   ]
  },
  {
   "cell_type": "markdown",
   "id": "589ea6b1",
   "metadata": {},
   "source": [
    "df returns dataframe that describes the number of weights(index) for every hole (columns).  "
   ]
  },
  {
   "cell_type": "code",
   "execution_count": 12,
   "id": "32a45124",
   "metadata": {},
   "outputs": [
    {
     "data": {
      "text/plain": [
       "(array([[0., 1., 0., 1., 0., 0., 1., 0., 0., 1., 1., 0., 0., 0., 0., 0.]]),\n",
       " array('640.2@73.6', dtype='<U10'),\n",
       " array([2.10034846]),\n",
       " array([0.]))"
      ]
     },
     "execution_count": 12,
     "metadata": {},
     "output_type": "execute_result"
    }
   ],
   "source": [
    "W_split, W_equ, error_splitting, prob_error"
   ]
  },
  {
   "cell_type": "markdown",
   "id": "4473353b",
   "metadata": {},
   "source": [
    "- W_split: the sparse matrix that the dataframe represents  \n",
    "- W_equ: the equivliant weight after splitting\n",
    "- error_splitting: the error caused by splitting from the model weight.  \n",
    "- prob_error: As I tried to solve the problem using only free solvers, I used `mip_cvxpy` package that uses `CBC` solver to solver mip problems. To get the most accurate results we should have turned the problem into mixed integer second order cone which is not supported by CBC, so instead I reformulate the objective function to be linear optimizing the max or real and imaginary part of the result weight error. The splitting error is returned then so the user can estimate."
   ]
  },
  {
   "cell_type": "markdown",
   "id": "4ef457ce",
   "metadata": {},
   "source": [
    "## Splitting plane BZ-C"
   ]
  },
  {
   "cell_type": "markdown",
   "id": "9f4a4536",
   "metadata": {},
   "source": [
    "* Holes available: we select angles from 100-200 to reduce calculation time, holes spaced by 5 degrees"
   ]
  },
  {
   "cell_type": "code",
   "execution_count": 13,
   "id": "e7a77510",
   "metadata": {},
   "outputs": [],
   "source": [
    "angles = np.arange(100,200,5)"
   ]
  },
  {
   "cell_type": "markdown",
   "id": "3f744ebe",
   "metadata": {},
   "source": [
    "* Weights available is 142 gram(5 ounces) and only one weight per hole is allowed\n",
    "* We can also constrain the problem to 2000 grams per plane to avoid solution infliteration. "
   ]
  },
  {
   "cell_type": "code",
   "execution_count": 14,
   "id": "9babd497",
   "metadata": {},
   "outputs": [
    {
     "name": "stdout",
     "output_type": "stream",
     "text": [
      "83 ms ± 3.11 ms per loop (mean ± std. dev. of 7 runs, 10 loops each)\n"
     ]
    }
   ],
   "source": [
    "%%timeit\n",
    "df, W_split, W_equ, error_splitting, prob_error = model_LeastSquares.split(1, max_number_weights_per_hole=1, holes_available=[angles]\n",
    "                         ,weights_available=[142], max_weight_per_plane=2000)"
   ]
  },
  {
   "cell_type": "code",
   "execution_count": 17,
   "id": "8c96e24a",
   "metadata": {},
   "outputs": [],
   "source": [
    "df, W_split, W_equ, error_splitting, prob_error = model_LeastSquares.split(1, max_number_weights_per_hole=1, holes_available=[angles]\n",
    "                         ,weights_available=[142], max_weight_per_plane=2000)"
   ]
  },
  {
   "cell_type": "markdown",
   "id": "c823e896",
   "metadata": {},
   "source": [
    "df returns dataframe that describes the number of weights(index) for every hole (columns).  "
   ]
  },
  {
   "cell_type": "code",
   "execution_count": 18,
   "id": "ed3ffcdd",
   "metadata": {},
   "outputs": [
    {
     "data": {
      "text/plain": [
       "(array([[0., 0., 0., 0., 0., 0., 0., 0., 0., 0., 1., 0., 0., 1., 0., 1.,\n",
       "         0., 1., 1., 0.],\n",
       "        [0., 0., 0., 1., 0., 0., 1., 0., 1., 0., 0., 0., 1., 0., 0., 0.,\n",
       "         1., 0., 0., 1.]]),\n",
       " array('1122.836@165.2', dtype='<U14'),\n",
       " array([0.02520801]),\n",
       " array([3.66262178e-13]))"
      ]
     },
     "execution_count": 18,
     "metadata": {},
     "output_type": "execute_result"
    }
   ],
   "source": [
    "W_split, W_equ, error_splitting, prob_error"
   ]
  },
  {
   "cell_type": "markdown",
   "id": "0d34bb49",
   "metadata": {},
   "source": [
    "- W_split: the sparse matrix that the dataframe represents  \n",
    "- W_equ: the equivliant weight after splitting\n",
    "- error_splitting: the error caused by splitting from the model weight.  \n",
    "- prob_error: As I tried to solve the problem using only free solvers, I used `mip_cvxpy` package that uses `CBC` solver to solver mip problems. To get the most accurate results we should have turned the problem into mixed integer second order cone which is not supported by CBC, so instead I reformulate the objective function to be linear optimizing the max or real and imaginary part of the result weight error. The splitting error is returned then so the user can estimate."
   ]
  },
  {
   "cell_type": "markdown",
   "id": "03102a20",
   "metadata": {},
   "source": [
    "### Discussion\n",
    "- The results in the Huang paper are different from mine. But I would like to further prove that the above calculations give even much lesser error.  \n",
    "- The time is an issue in splitting, you should solve the problem first and try to select suitiable angles around the original phase angle.\n",
    "- The solving objective function is not what it exactly supposed to be, even though the result and speed are practically satsfying in my opinion."
   ]
  },
  {
   "cell_type": "markdown",
   "id": "1ad4b4e0",
   "metadata": {},
   "source": [
    "\n",
    "\n",
    "\n",
    "\n"
   ]
  },
  {
   "cell_type": "code",
   "execution_count": null,
   "id": "baabbb2e",
   "metadata": {},
   "outputs": [],
   "source": []
  }
 ],
 "metadata": {
  "kernelspec": {
   "display_name": "Python [conda env:balance] *",
   "language": "python",
   "name": "conda-env-balance-py"
  },
  "language_info": {
   "codemirror_mode": {
    "name": "ipython",
    "version": 3
   },
   "file_extension": ".py",
   "mimetype": "text/x-python",
   "name": "python",
   "nbconvert_exporter": "python",
   "pygments_lexer": "ipython3",
   "version": "3.8.12"
  }
 },
 "nbformat": 4,
 "nbformat_minor": 5
}
