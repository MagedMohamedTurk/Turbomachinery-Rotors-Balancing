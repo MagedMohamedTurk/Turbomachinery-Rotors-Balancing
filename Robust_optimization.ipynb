{
 "cells": [
  {
   "cell_type": "code",
   "execution_count": 1,
   "id": "f622ade9",
   "metadata": {},
   "outputs": [
    {
     "name": "stdout",
     "output_type": "stream",
     "text": [
      "Using the Community license in this session. If you have a full Xpress license, first set the XPAUTH_PATH environment variable to the full path to your license file, xpauth.xpr, and then restart Python. If you want to use the FICO Community license and no longer want to see this message, set the XPAUTH_PATH environment variable to: /home/maged/anaconda3/envs/balance/lib/python3.8/site-packages/xpress/license/community-xpauth.xpr\n",
      "NB: setting XPAUTH_PATH will also affect any other Xpress products installed on your system.\n"
     ]
    }
   ],
   "source": [
    "import cvxpy as cp\n",
    "import numpy as np\n",
    "import cmath\n",
    "import hsbalance as hs\n",
    "import matplotlib.pyplot as plt\n",
    "%matplotlib widget"
   ]
  },
  {
   "cell_type": "markdown",
   "id": "1045eff9",
   "metadata": {},
   "source": [
    "# Introduction\n",
    "\n",
    "In these notes, we are going to discuss the issues related to robust optimization.\n",
    "a. What is Robust Optimization?\n",
    "Optimization process is not determinant, this means that we have no clue or determinant check if our solution is the optimum one. Optimization is prone to error if outliers exist. Noisy data and uncertainty readings. Methods, especially least squares method, can be more effected with outliers than others.  \n",
    "b. Rotor Balancing Robust Optimization:\n",
    "In our problem of rotor balancing, solution can be greatly effected by outliers for the following reasons:  \n",
    "1. Measurements are low in numbers: Maximum field measuring points number is still tiny mathematically-wise.\n",
    "2. Sensor faults: a sensor can go wrong easily for a turbine that runs for 20 years. Calibration is not an easy or a cheap process.  \n",
    "3. Accumulation of errors: The process of measuring a point in a turbine/compressor usually involves a sensor and long cables in series (vibration cards and junctions). Those produce errors in series and cause the summation to infiltrate.\n",
    "4. Measuring times: Turbo-Machinery is often connected to large process, which make it start and stop time costly. This encourages for accurate balancing with the fewest number of starts."
   ]
  },
  {
   "cell_type": "markdown",
   "id": "ab28df86",
   "metadata": {},
   "source": [
    "# Simulating Data"
   ]
  },
  {
   "cell_type": "markdown",
   "id": "46553bd3",
   "metadata": {},
   "source": [
    "We generate random data with known solution W"
   ]
  },
  {
   "cell_type": "code",
   "execution_count": 32,
   "id": "dde2a986",
   "metadata": {},
   "outputs": [],
   "source": [
    "np.random.seed(42)\n",
    "real = np.random.rand(5,3)\n",
    "imag = np.random.rand(5,3)\n",
    "alpha = real + imag * 1j\n",
    "# Assume W is equal to 10 grams @ 0 degree at all planes\n",
    "W = [[10], [10], [10]]\n",
    "# Create intial condtioning column array A with random noise to simulate actual problem\n",
    "A = - alpha @ W + np.random.normal(1, size=(5,1))"
   ]
  },
  {
   "cell_type": "markdown",
   "id": "52cf1293",
   "metadata": {},
   "source": [
    "# Create a hsbalance model"
   ]
  },
  {
   "cell_type": "code",
   "execution_count": 33,
   "id": "92a68852",
   "metadata": {},
   "outputs": [
    {
     "data": {
      "text/plain": [
       "array([['9.124@2.2'],\n",
       "       ['10.11@358.7'],\n",
       "       ['10.072@1.9']], dtype='<U11')"
      ]
     },
     "execution_count": 33,
     "metadata": {},
     "output_type": "execute_result"
    }
   ],
   "source": [
    "model_alpha = hs.Alpha()\n",
    "model_alpha.add(alpha)\n",
    "model = hs.LeastSquares(A, model_alpha)\n",
    "W_model = model.solve()\n",
    "hs.convert_cart_math(W_model)"
   ]
  },
  {
   "cell_type": "markdown",
   "id": "02ac52e5",
   "metadata": {},
   "source": [
    "Calculate the Error"
   ]
  },
  {
   "cell_type": "code",
   "execution_count": 34,
   "id": "ffe9a0a8",
   "metadata": {},
   "outputs": [
    {
     "data": {
      "text/plain": [
       "0.5115"
      ]
     },
     "execution_count": 34,
     "metadata": {},
     "output_type": "execute_result"
    }
   ],
   "source": [
    "hs.rmse(W_model - W)"
   ]
  },
  {
   "cell_type": "markdown",
   "id": "bd03ba24",
   "metadata": {},
   "source": [
    "# Faulty Sensor"
   ]
  },
  {
   "cell_type": "markdown",
   "id": "aa10eb68",
   "metadata": {},
   "source": [
    "To simulate a faulty sensor we will assume that the sensor at the first plane has gone completely fault and gives no output (i.e. equal 0)"
   ]
  },
  {
   "cell_type": "code",
   "execution_count": 35,
   "id": "b716ba39",
   "metadata": {},
   "outputs": [
    {
     "data": {
      "text/plain": [
       "array([['9.533@5.9'],\n",
       "       ['8.715@351.2'],\n",
       "       ['9.312@7.2']], dtype='<U11')"
      ]
     },
     "execution_count": 35,
     "metadata": {},
     "output_type": "execute_result"
    }
   ],
   "source": [
    "A[0] -= A[0] * 0.2\n",
    "model_alpha = hs.Alpha()\n",
    "model_alpha.add(alpha)\n",
    "model = hs.LeastSquares(A, model_alpha)\n",
    "W_model = model.solve()\n",
    "hs.convert_cart_math(W_model)"
   ]
  },
  {
   "cell_type": "code",
   "execution_count": 36,
   "id": "d37dbcbf",
   "metadata": {},
   "outputs": [
    {
     "data": {
      "text/plain": [
       "1.4745"
      ]
     },
     "execution_count": 36,
     "metadata": {},
     "output_type": "execute_result"
    }
   ],
   "source": [
    "hs.rmse(W_model - W)"
   ]
  },
  {
   "cell_type": "markdown",
   "id": "d54e25e0",
   "metadata": {},
   "source": [
    "As we see, the error has gone extremly high and obviously unacceptable.  \n",
    "If we acknowldge the sensor error, we can use weight least squares method to solve the problem instead.  \n",
    "This can be done by assign the argument solver='WLS' in solver method of least squares. and pass the coefficient column array C to the model.   \n",
    "In our case we will give all the sensor the same weight as 1. Only the sensor suspected we will assume a weight of 0. The previous setup will completely discard the sensor from caluclations."
   ]
  },
  {
   "cell_type": "code",
   "execution_count": 37,
   "id": "47055e19",
   "metadata": {},
   "outputs": [
    {
     "data": {
      "text/plain": [
       "array([['9.272@2.6'],\n",
       "       ['9.699@358.5'],\n",
       "       ['10.032@3.4']], dtype='<U11')"
      ]
     },
     "execution_count": 37,
     "metadata": {},
     "output_type": "execute_result"
    }
   ],
   "source": [
    "C = np.ones(A.shape)\n",
    "C[0] = 0\n",
    "model = hs.LeastSquares(A, model_alpha, C)\n",
    "W_model = model.solve(solver='WLS')\n",
    "hs.convert_cart_math(W_model)"
   ]
  },
  {
   "cell_type": "code",
   "execution_count": 38,
   "id": "419019c2",
   "metadata": {},
   "outputs": [
    {
     "data": {
      "text/plain": [
       "0.6087"
      ]
     },
     "execution_count": 38,
     "metadata": {},
     "output_type": "execute_result"
    }
   ],
   "source": [
    "hs.rmse(W_model - W)"
   ]
  },
  {
   "cell_type": "markdown",
   "id": "aa833954",
   "metadata": {},
   "source": [
    "We can notice that we restored a low level of error when discarding the faulty sensor."
   ]
  },
  {
   "cell_type": "code",
   "execution_count": 39,
   "id": "ff0826c8",
   "metadata": {},
   "outputs": [
    {
     "data": {
      "text/plain": [
       "array([['8.775@5.2'],\n",
       "       ['9.082@349.6'],\n",
       "       ['9.38@10.6']], dtype='<U11')"
      ]
     },
     "execution_count": 39,
     "metadata": {},
     "output_type": "execute_result"
    }
   ],
   "source": [
    "model = hs.LeastSquares(A, model_alpha)\n",
    "W_model = model.solve(solver='huber')\n",
    "hs.convert_cart_math(W_model)"
   ]
  },
  {
   "cell_type": "code",
   "execution_count": 40,
   "id": "9bd3c129",
   "metadata": {},
   "outputs": [
    {
     "data": {
      "text/plain": [
       "1.7766"
      ]
     },
     "execution_count": 40,
     "metadata": {},
     "output_type": "execute_result"
    }
   ],
   "source": [
    "hs.rmse(W_model - W)"
   ]
  },
  {
   "cell_type": "code",
   "execution_count": null,
   "id": "b1646138",
   "metadata": {},
   "outputs": [],
   "source": []
  }
 ],
 "metadata": {
  "kernelspec": {
   "display_name": "Python [conda env:balance] *",
   "language": "python",
   "name": "conda-env-balance-py"
  },
  "language_info": {
   "codemirror_mode": {
    "name": "ipython",
    "version": 3
   },
   "file_extension": ".py",
   "mimetype": "text/x-python",
   "name": "python",
   "nbconvert_exporter": "python",
   "pygments_lexer": "ipython3",
   "version": "3.8.12"
  }
 },
 "nbformat": 4,
 "nbformat_minor": 5
}
