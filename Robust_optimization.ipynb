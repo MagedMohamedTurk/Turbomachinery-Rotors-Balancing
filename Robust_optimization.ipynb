{
 "cells": [
  {
   "cell_type": "code",
   "execution_count": 90,
   "id": "f622ade9",
   "metadata": {},
   "outputs": [],
   "source": [
    "import cvxpy as cp\n",
    "import numpy as np\n",
    "import cmath\n",
    "import hsbalance as hs\n",
    "import matplotlib.pyplot as plt\n",
    "%matplotlib widget"
   ]
  },
  {
   "cell_type": "markdown",
   "id": "1045eff9",
   "metadata": {},
   "source": [
    "# Introduction\n",
    "\n",
    "In these notes, we are going to discuss the issues related to robust optimization.\n",
    "a. What is Robust Optimization?\n",
    "Optimization process is not determinant, this means that we have no clue or determinant check if our solution is the optimum one. Optimization is prone to error if outliers exist. Noisy data and uncertainty readings. Methods, especially least squares method, can be more effected with outliers than others.  \n",
    "b. Rotor Balancing Robust Optimization:\n",
    "In our problem of rotor balancing, solution can be greatly effected by outliers for the following reasons:  \n",
    "1. Measurements are low in numbers: Maximum field measuring points number is still tiny mathematically-wise.\n",
    "2. Sensor faults: a sensor can go wrong easily for a turbine that runs for 20 years. Calibration is not an easy or a cheap process.  \n",
    "3. Accumulation of errors: The process of measuring a point in a turbine/compressor usually involves a sensor and long cables in series (vibration cards and junctions). Those produce errors in series and cause the summation to infiltrate.\n",
    "4. Measuring times: Turbo-Machinery is often connected to large process, which make it start and stop time costly. This encourages for accurate balancing with the fewest number of starts."
   ]
  },
  {
   "cell_type": "markdown",
   "id": "0270195a",
   "metadata": {},
   "source": [
    "# Simulating Data"
   ]
  },
  {
   "cell_type": "markdown",
   "id": "f66aa592",
   "metadata": {},
   "source": [
    "We generate random data with known solution W"
   ]
  },
  {
   "cell_type": "code",
   "execution_count": 112,
   "id": "dde2a986",
   "metadata": {},
   "outputs": [],
   "source": [
    "np.random.seed(42)\n",
    "real = np.random.rand(5,3)\n",
    "imag = np.random.rand(5,3)\n",
    "alpha = real + imag * 1j\n",
    "# Assume W is equal to 10 grams @ 0 degree at all planes\n",
    "W = [[10], [10], [10]]\n",
    "# Create intial condtioning column array A with random noise to simulate actual problem\n",
    "A = - alpha @ W + np.random.normal(1, size=(5,1))"
   ]
  },
  {
   "cell_type": "markdown",
   "id": "2161c31a",
   "metadata": {},
   "source": [
    "# Create a hsbalance model"
   ]
  },
  {
   "cell_type": "code",
   "execution_count": 113,
   "id": "92a68852",
   "metadata": {},
   "outputs": [
    {
     "data": {
      "text/plain": [
       "array([['9.124@2.2'],\n",
       "       ['10.11@358.7'],\n",
       "       ['10.072@1.9']], dtype='<U11')"
      ]
     },
     "execution_count": 113,
     "metadata": {},
     "output_type": "execute_result"
    }
   ],
   "source": [
    "model_alpha = hs.Alpha()\n",
    "model_alpha.add(alpha)\n",
    "model = hs.LeastSquares(A, model_alpha)\n",
    "W_model = model.solve()\n",
    "hs.convert_cart_math(W_model)"
   ]
  },
  {
   "cell_type": "markdown",
   "id": "12a64e0b",
   "metadata": {},
   "source": [
    "Calculate the Error"
   ]
  },
  {
   "cell_type": "code",
   "execution_count": 116,
   "id": "7df297e8",
   "metadata": {},
   "outputs": [
    {
     "data": {
      "text/plain": [
       "0.5115"
      ]
     },
     "execution_count": 116,
     "metadata": {},
     "output_type": "execute_result"
    }
   ],
   "source": [
    "hs.rmse(W_model - W)"
   ]
  },
  {
   "cell_type": "markdown",
   "id": "62f5af36",
   "metadata": {},
   "source": [
    "# Faulty Sensor"
   ]
  },
  {
   "cell_type": "markdown",
   "id": "3765ebe2",
   "metadata": {},
   "source": [
    "To simulate a faulty sensor we will assume that the sensor at the first plane has gone completely fault and gives no output (i.e. equal 0)"
   ]
  },
  {
   "cell_type": "code",
   "execution_count": 118,
   "id": "6569348d",
   "metadata": {},
   "outputs": [
    {
     "data": {
      "text/plain": [
       "array([['11.501@17.9'],\n",
       "       ['6.339@294.5'],\n",
       "       ['7.434@37.1']], dtype='<U11')"
      ]
     },
     "execution_count": 118,
     "metadata": {},
     "output_type": "execute_result"
    }
   ],
   "source": [
    "A[0] = 0\n",
    "model_alpha = hs.Alpha()\n",
    "model_alpha.add(alpha)\n",
    "model = hs.LeastSquares(A, model_alpha)\n",
    "W_model = model.solve()\n",
    "hs.convert_cart_math(W_model)"
   ]
  },
  {
   "cell_type": "code",
   "execution_count": 119,
   "id": "defa4bf4",
   "metadata": {},
   "outputs": [
    {
     "data": {
      "text/plain": [
       "6.3579"
      ]
     },
     "execution_count": 119,
     "metadata": {},
     "output_type": "execute_result"
    }
   ],
   "source": [
    "hs.rmse(W_model - W)"
   ]
  },
  {
   "cell_type": "markdown",
   "id": "dc64be26",
   "metadata": {},
   "source": [
    "As we see, the error has gone extremly high and obviously unacceptable.  \n",
    "If we acknowldge the sensor error, we can use weight least squares method to solve the problem instead.  \n",
    "This can be done by assign the argument solver='WLS' in solver method of least squares. and pass the coefficient column array C to the model.   \n",
    "In our case we will give all the sensor the same weight as 1. Only the sensor suspected we will assume a weight of 0. The previous setup will completely discard the sensor from caluclations."
   ]
  },
  {
   "cell_type": "code",
   "execution_count": 120,
   "id": "47055e19",
   "metadata": {},
   "outputs": [
    {
     "data": {
      "text/plain": [
       "array([['9.272@2.6'],\n",
       "       ['9.699@358.5'],\n",
       "       ['10.032@3.4']], dtype='<U11')"
      ]
     },
     "execution_count": 120,
     "metadata": {},
     "output_type": "execute_result"
    }
   ],
   "source": [
    "C = np.ones(A.shape)\n",
    "C[0] = 0\n",
    "model = hs.LeastSquares(A, model_alpha, C)\n",
    "W_model = model.solve(solver='WLS')\n",
    "hs.convert_cart_math(W_model)"
   ]
  },
  {
   "cell_type": "code",
   "execution_count": 122,
   "id": "5ad78eeb",
   "metadata": {},
   "outputs": [
    {
     "data": {
      "text/plain": [
       "0.6087"
      ]
     },
     "execution_count": 122,
     "metadata": {},
     "output_type": "execute_result"
    }
   ],
   "source": [
    "hs.rmse(W_model - W)"
   ]
  },
  {
   "cell_type": "markdown",
   "id": "2d80be78",
   "metadata": {},
   "source": [
    "We can notice that we restored a low level of error when discarding the faulty sensor."
   ]
  },
  {
   "cell_type": "code",
   "execution_count": 133,
   "id": "91cd5285",
   "metadata": {},
   "outputs": [
    {
     "ename": "CustomError",
     "evalue": "Unrecognized Solver name",
     "output_type": "error",
     "traceback": [
      "\u001b[0;31m---------------------------------------------------------------------------\u001b[0m",
      "\u001b[0;31mCustomError\u001b[0m                               Traceback (most recent call last)",
      "\u001b[0;32m/tmp/ipykernel_2724/938344385.py\u001b[0m in \u001b[0;36m<module>\u001b[0;34m\u001b[0m\n\u001b[1;32m      1\u001b[0m \u001b[0mmodel\u001b[0m \u001b[0;34m=\u001b[0m \u001b[0mhs\u001b[0m\u001b[0;34m.\u001b[0m\u001b[0mLeastSquares\u001b[0m\u001b[0;34m(\u001b[0m\u001b[0mA\u001b[0m\u001b[0;34m,\u001b[0m \u001b[0mmodel_alpha\u001b[0m\u001b[0;34m)\u001b[0m\u001b[0;34m\u001b[0m\u001b[0;34m\u001b[0m\u001b[0m\n\u001b[0;32m----> 2\u001b[0;31m \u001b[0mW_model\u001b[0m \u001b[0;34m=\u001b[0m \u001b[0mmodel\u001b[0m\u001b[0;34m.\u001b[0m\u001b[0msolve\u001b[0m\u001b[0;34m(\u001b[0m\u001b[0msolver\u001b[0m\u001b[0;34m=\u001b[0m\u001b[0;34m'huber'\u001b[0m\u001b[0;34m)\u001b[0m\u001b[0;34m\u001b[0m\u001b[0;34m\u001b[0m\u001b[0m\n\u001b[0m\u001b[1;32m      3\u001b[0m \u001b[0mhs\u001b[0m\u001b[0;34m.\u001b[0m\u001b[0mconvert_cart_math\u001b[0m\u001b[0;34m(\u001b[0m\u001b[0mW_model\u001b[0m\u001b[0;34m)\u001b[0m\u001b[0;34m\u001b[0m\u001b[0;34m\u001b[0m\u001b[0m\n",
      "\u001b[0;32m~/Turbomachinery-Rotors-Balancing/src/hsbalance/model.py\u001b[0m in \u001b[0;36msolve\u001b[0;34m(self, solver)\u001b[0m\n\u001b[1;32m    277\u001b[0m             \u001b[0m_objective\u001b[0m \u001b[0;34m=\u001b[0m \u001b[0mcp\u001b[0m\u001b[0;34m.\u001b[0m\u001b[0mMinimize\u001b[0m\u001b[0;34m(\u001b[0m\u001b[0mcp\u001b[0m\u001b[0;34m.\u001b[0m\u001b[0msum_squares\u001b[0m\u001b[0;34m(\u001b[0m\u001b[0mcp\u001b[0m\u001b[0;34m.\u001b[0m\u001b[0mdiag\u001b[0m\u001b[0;34m(\u001b[0m\u001b[0mself\u001b[0m\u001b[0;34m.\u001b[0m\u001b[0mC\u001b[0m\u001b[0;34m)\u001b[0m \u001b[0;34m@\u001b[0m \u001b[0;34m(\u001b[0m\u001b[0mself\u001b[0m\u001b[0;34m.\u001b[0m\u001b[0mALPHA\u001b[0m \u001b[0;34m@\u001b[0m \u001b[0mW\u001b[0m \u001b[0;34m+\u001b[0m \u001b[0mself\u001b[0m\u001b[0;34m.\u001b[0m\u001b[0mA\u001b[0m\u001b[0;34m)\u001b[0m\u001b[0;34m)\u001b[0m\u001b[0;34m)\u001b[0m\u001b[0;34m\u001b[0m\u001b[0;34m\u001b[0m\u001b[0m\n\u001b[1;32m    278\u001b[0m         \u001b[0;32melse\u001b[0m\u001b[0;34m:\u001b[0m\u001b[0;34m\u001b[0m\u001b[0;34m\u001b[0m\u001b[0m\n\u001b[0;32m--> 279\u001b[0;31m             \u001b[0;32mraise\u001b[0m \u001b[0mtools\u001b[0m\u001b[0;34m.\u001b[0m\u001b[0mCustomError\u001b[0m\u001b[0;34m(\u001b[0m\u001b[0;34m'Unrecognized Solver name'\u001b[0m\u001b[0;34m)\u001b[0m\u001b[0;34m\u001b[0m\u001b[0;34m\u001b[0m\u001b[0m\n\u001b[0m\u001b[1;32m    280\u001b[0m         \u001b[0mprob\u001b[0m \u001b[0;34m=\u001b[0m \u001b[0mcp\u001b[0m\u001b[0;34m.\u001b[0m\u001b[0mProblem\u001b[0m\u001b[0;34m(\u001b[0m\u001b[0m_objective\u001b[0m\u001b[0;34m)\u001b[0m\u001b[0;34m\u001b[0m\u001b[0;34m\u001b[0m\u001b[0m\n\u001b[1;32m    281\u001b[0m         \u001b[0mprob\u001b[0m\u001b[0;34m.\u001b[0m\u001b[0msolve\u001b[0m\u001b[0;34m(\u001b[0m\u001b[0;34m)\u001b[0m\u001b[0;34m\u001b[0m\u001b[0;34m\u001b[0m\u001b[0m\n",
      "\u001b[0;31mCustomError\u001b[0m: Unrecognized Solver name"
     ]
    }
   ],
   "source": [
    "model = hs.LeastSquares(A, model_alpha)\n",
    "W_model = model.solve(solver='huber')\n",
    "hs.convert_cart_math(W_model)"
   ]
  },
  {
   "cell_type": "code",
   "execution_count": 127,
   "id": "b7560a32",
   "metadata": {},
   "outputs": [
    {
     "name": "stdout",
     "output_type": "stream",
     "text": [
      "Help on class LeastSquares in module hsbalance.model:\n",
      "\n",
      "class LeastSquares(_Model)\n",
      " |  LeastSquares(A: <built-in function array>, alpha: 'instance of Alpha class', C=array([0.]), name='')\n",
      " |  \n",
      " |  subclass of Model\n",
      " |  solving the model using Least squares method, The objective function\n",
      " |  is to minimize the least squares of residual vibration.\n",
      " |  \n",
      " |  Method resolution order:\n",
      " |      LeastSquares\n",
      " |      _Model\n",
      " |      builtins.object\n",
      " |  \n",
      " |  Methods defined here:\n",
      " |  \n",
      " |  __init__(self, A: <built-in function array>, alpha: 'instance of Alpha class', C=array([0.]), name='')\n",
      " |      Instantiate the model\n",
      " |      Args:\n",
      " |      A: Initial vibration vector -> np.ndarray\n",
      " |      ALPHA: Influence coefficient matrix -> class Alpha\n",
      " |      C: Weighted Least squares coefficients\n",
      " |      name: optional name of the model -> string\n",
      " |  \n",
      " |  solve(self, solver='OLE')\n",
      " |      Method to solve the model\n",
      " |      Args:\n",
      " |          solver:'OLE' Ordinary Least Squares method\n",
      " |          'Huber': Uses Huber smoother to down estimate the outliers.\n",
      " |  \n",
      " |  ----------------------------------------------------------------------\n",
      " |  Methods inherited from _Model:\n",
      " |  \n",
      " |  create_split(self)\n",
      " |      Factory method to create a split instance\n",
      " |  \n",
      " |  expected_residual_vibration(self)\n",
      " |      Returns the residual_vibration from tools module\n",
      " |  \n",
      " |  rmse(self)\n",
      " |      Returns the root mean squares from tools module\n",
      " |  \n",
      " |  ----------------------------------------------------------------------\n",
      " |  Data descriptors inherited from _Model:\n",
      " |  \n",
      " |  __dict__\n",
      " |      dictionary for instance variables (if defined)\n",
      " |  \n",
      " |  __weakref__\n",
      " |      list of weak references to the object (if defined)\n",
      " |  \n",
      " |  ----------------------------------------------------------------------\n",
      " |  Data and other attributes inherited from _Model:\n",
      " |  \n",
      " |  Split = <class 'hsbalance.model._Model.Split'>\n",
      " |      Inner class for splitting weights\n",
      "\n"
     ]
    }
   ],
   "source": [
    "help(hs.LeastSquares)"
   ]
  },
  {
   "cell_type": "code",
   "execution_count": null,
   "id": "d42f9727",
   "metadata": {},
   "outputs": [],
   "source": []
  }
 ],
 "metadata": {
  "kernelspec": {
   "display_name": "Python [conda env:balance] *",
   "language": "python",
   "name": "conda-env-balance-py"
  },
  "language_info": {
   "codemirror_mode": {
    "name": "ipython",
    "version": 3
   },
   "file_extension": ".py",
   "mimetype": "text/x-python",
   "name": "python",
   "nbconvert_exporter": "python",
   "pygments_lexer": "ipython3",
   "version": "3.8.12"
  }
 },
 "nbformat": 4,
 "nbformat_minor": 5
}
